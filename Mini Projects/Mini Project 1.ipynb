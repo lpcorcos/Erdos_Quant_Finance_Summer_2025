{
 "cells": [
  {
   "cell_type": "markdown",
   "id": "957e7b08",
   "metadata": {},
   "source": [
    "# Mini Project 1\n",
    "\n",
    "**2025 Introduction to Quantitative Methods in Finance**\n",
    "\n",
    "**The Erdös Institute**\n",
    "\n",
    "**Instructions** Use current stock data to create two potentially profitable investment portfolios. One that is higher risk and one that is lower risk.\n",
    "\n",
    "-- You are to interpret and explain your interpretation of a high risk profile and low risk profile of a portfolio. You should provide some measurable quantitative data in your explanation."
   ]
  },
  {
   "cell_type": "markdown",
   "id": "0e547844",
   "metadata": {},
   "source": [
    "Higher Risk - Nvda Msft Tsla Meta Nflx Pltr Crwv Mvst Txrh Bitcoin\n",
    "\n",
    "Lower Risk - Spy\n",
    "\n",
    "Higher risk explanation - Heavily tech leaning with several speculative assets that have high volatility---Pltr, Crwv, Mvst Btc.\n",
    "\n",
    "Lower Risk explanation- The S&P500 has been a stable investment vehicle returning a compounding average of 6-8% annually for the past 80 years. \n",
    "It should be a key component of anyone's retirement account."
   ]
  },
  {
   "cell_type": "code",
   "execution_count": null,
   "id": "ceced76b",
   "metadata": {},
   "outputs": [],
   "source": []
  }
 ],
 "metadata": {
  "kernelspec": {
   "display_name": "Python 3 (ipykernel)",
   "language": "python",
   "name": "python3"
  },
  "language_info": {
   "codemirror_mode": {
    "name": "ipython",
    "version": 3
   },
   "file_extension": ".py",
   "mimetype": "text/x-python",
   "name": "python",
   "nbconvert_exporter": "python",
   "pygments_lexer": "ipython3",
   "version": "3.9.13"
  }
 },
 "nbformat": 4,
 "nbformat_minor": 5
}
