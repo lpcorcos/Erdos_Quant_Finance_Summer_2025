{
 "cells": [
  {
   "cell_type": "markdown",
   "id": "9543b66e",
   "metadata": {},
   "source": [
    "# Modeling Stock Movements as Geometric Brownian Motion\n",
    "\n",
    "**2025 Introduction to Quantiative Methods in Finance**\n",
    "\n",
    "**The Erdös Institute**"
   ]
  },
  {
   "cell_type": "code",
   "execution_count": null,
   "id": "2f47b3ac",
   "metadata": {},
   "outputs": [],
   "source": [
    "#package import\n",
    "import numpy as np\n",
    "import pandas as pd\n",
    "import yfinance as yf\n",
    "import datetime as dt\n",
    "import matplotlib.pyplot as plt\n",
    "import seaborn as sns\n",
    "sns.set_style('darkgrid')"
   ]
  },
  {
   "cell_type": "markdown",
   "id": "8748d79a",
   "metadata": {},
   "source": [
    "### Stock paths as limits of binomial trees\n",
    "\n",
    "Let $t\\in \\mathbb{Q}_{>0}$ and $S(t)$ the distribution of stock paths from time $t=0$ to time $t$ (measured in years).\n",
    "\n",
    "Assume the following:\n",
    " - For each $n\\in\\mathbb{N}$ so that $tn\\in\\mathbb{N}$, there is an $nt$ binomial tree path $S_n(t)$ so that $\\lim_{n\\to\\infty}S_n(t) = S(t)$ with the following additional properties:\n",
    "  - There exists $E[S_n(t)-S(0)] = E[S(t)-S(0)]$;\n",
    "  - There exists $\\sigma$ so that $Var(S_n(t)) = \\sigma t$ for all $n$;\n",
    "  - Each step in the random walk of $S_n(t)$ has equal probability of going up or down.\n",
    "Then $$\\displaystyle S(t) = S(0)e^{\\mu t -\\frac{\\sigma^2}{2}t + \\sigma \\sqrt{t}\\mathcal{N}(0,1)}$$\n",
    "where\n",
    "  - $\\mu$ is the yearly drift rate of log-returns;\n",
    "  - $\\sigma$ is the yearly standard deviation (volatility) of log-returns;\n",
    "  - $\\mathcal{N}(0,1)$ is the standard normal distribution.\n",
    "  \n",
    "#### Geomtric Brownian Motion:\n",
    "The distribution described by the limit of binomial trees is a type of Geometric Brownian Motion.\n",
    "  \n",
    "#### Remark: \n",
    "If $t$ is not necessarily rational, we can still use the same forumla $S(t) = S(0)e^{\\mu t -\\frac{\\sigma^2}{2}t + \\sigma \\sqrt{t}\\mathcal{N}(0,1)}$ as the distribution of stock paths.\n",
    "\n",
    "\n",
    "#### Discounted Rates:\n",
    "If $r$ is the continuously compounded discounted rate of the current value of money, then the current return value of the stock distribution has distribution\n",
    "$$\\displaystyle S(t) = S(0)e^{\\mu t -\\frac{\\sigma^2}{2}t - rt + \\sigma \\sqrt{t}\\mathcal{N}(0,1)} = S(0)e^{\\left(\\mu -r -\\frac{\\sigma^2}{2}\\right)t + \\sigma\\sqrt{t}\\mathcal{N}(0,1)}.$$\n",
    "  "
   ]
  },
  {
   "cell_type": "code",
   "execution_count": null,
   "id": "c88afb24",
   "metadata": {},
   "outputs": [],
   "source": [
    "# Write a function that models a stock movement as a geometric brownian motion\n",
    "def geo_path_stock(S0, sigma, mu = 0, n = 1, t = 1, r = 0):\n",
    "    \"\"\"\n",
    "    Description:\n",
    "    \n",
    "        Models a stock movement with volatility sigma measured as the yearly standard deviation of log returns\n",
    "    \n",
    "    Parameters:\n",
    "\n",
    "        S0 -- Initial stock price\n",
    "\n",
    "        mu -- Mean (drift) of the log returns\n",
    "\n",
    "        sigma -- Standard deviation of log returns over 252 trading days\n",
    "\n",
    "        n -- Number of steps/unit of time to simulate\n",
    "        \n",
    "        t -- Time measured in yearly trading days ~ 252.\n",
    "        \n",
    "        r -- Continuously compounded interest rate.\n",
    "        \n",
    "        Remark: One month of trading days ~ 21. So to simulate one month of a stock movement set t = 21/252 = 1/12.\n",
    "\n",
    "    Returns: \n",
    "        numpy array\n",
    "    \"\"\"\n",
    "    \n",
    "    dt = \n",
    "    \n",
    "    N = \n",
    "    \n",
    "    increments = \n",
    "    \n",
    "    log_returns = \n",
    "    \n",
    "    path = \n",
    "    \n",
    "    path[0] = \n",
    "    \n",
    "    path[1:] = \n",
    "    \n",
    "    return "
   ]
  },
  {
   "cell_type": "code",
   "execution_count": null,
   "id": "7f405730",
   "metadata": {},
   "outputs": [],
   "source": [
    "# Demonstrate geo_path_stock\n",
    "S0 = \n",
    "sigma = \n",
    "steps = \n",
    "\n",
    "stock_path = \n",
    "\n",
    "\n",
    "plt.figure(figsize = (12,8))\n",
    "plt.plot(stock_path)\n",
    "plt.title(f'Simulated daily stock path over {steps} days with yearly volatility {sigma}', size = 20)\n",
    "plt.show()"
   ]
  },
  {
   "cell_type": "code",
   "execution_count": null,
   "id": "8fbdfb43",
   "metadata": {},
   "outputs": [],
   "source": [
    "#simulate and plot 100 10 step daily stock paths.\n",
    "S0 = \n",
    "sigma = \n",
    "steps = \n",
    "num_paths = \n",
    "\n",
    "\n",
    "stock_paths = \n",
    "\n",
    "\n",
    "plt.figure(figsize = (12,8))\n",
    "plt.title(f'{num_paths} simulated stock paths over 10 trading days', size = 20)\n",
    "for path in stock_paths:\n",
    "    plt.plot(path)\n",
    "plt.show()"
   ]
  },
  {
   "cell_type": "markdown",
   "id": "9233c2f6",
   "metadata": {},
   "source": [
    "### Common practice\n",
    "\n",
    "It is common practice to model a stock or index volatility by looking at historical volatility. This can be especially valuable if historical stock/index log-returns are normally distributed."
   ]
  },
  {
   "cell_type": "code",
   "execution_count": null,
   "id": "1d7fe0e3",
   "metadata": {},
   "outputs": [],
   "source": [
    "#Download historical S&P500 data\n",
    "start_date = \n",
    "end_date = \n",
    "SP_data = \n",
    "\n",
    "\n",
    "plt.figure(figsize = (12,8))\n",
    "plt.plot(SP_data['Close'])\n",
    "plt.title('S&P index', size = 25)\n",
    "plt.show()"
   ]
  },
  {
   "cell_type": "code",
   "execution_count": null,
   "id": "6e79c8e8",
   "metadata": {},
   "outputs": [],
   "source": [
    "# Use historical data to estimate yearly drift and std deviation of log returns\n",
    "SP_log_returns = \n",
    "SP_log_returns = \n",
    "SP_log_returns_values = \n",
    "\n",
    "sigma = \n",
    "\n",
    "mu = \n",
    "\n",
    "\n",
    "#Set starting value of simulated stocks to be last closing price of S&P\n",
    "\n",
    "S0 = "
   ]
  },
  {
   "cell_type": "code",
   "execution_count": null,
   "id": "505f3ad1",
   "metadata": {},
   "outputs": [],
   "source": [
    "#Simulate and plot 100 daily stock paths over 2 years\n",
    "SP_paths = [geo_path_stock() for _ in range(100)]\n",
    "\n",
    "plt.figure(figsize = (12,8))\n",
    "for SP_path in SP_paths:\n",
    "    plt.plot(SP_path)\n",
    "plt.title('Simulated stock paths of S&P 500 over 2 years', size = 25)\n",
    "plt.show()"
   ]
  },
  {
   "cell_type": "markdown",
   "id": "20fd860b",
   "metadata": {},
   "source": [
    "### Time Saving Remark\n",
    "When modeling stock paths via a geometric brownian motion, or any other model, if we only care about estimating the final value over a future trading period, we do not have to simulate individual steps."
   ]
  },
  {
   "cell_type": "code",
   "execution_count": null,
   "id": "68c22197",
   "metadata": {},
   "outputs": [],
   "source": [
    "#Simulate daily step paths\n",
    "SP_paths = [geo_path_stock(S0, sigma, mu = mu, n = 2*252, t = 2) for _ in range(100000)]"
   ]
  },
  {
   "cell_type": "code",
   "execution_count": null,
   "id": "3c2e6091",
   "metadata": {},
   "outputs": [],
   "source": [
    "#Examine lengths of SP_paths and a path in SP_paths\n",
    "len(SP_paths), len(SP_paths[0])"
   ]
  },
  {
   "cell_type": "code",
   "execution_count": null,
   "id": "06871220",
   "metadata": {},
   "outputs": [],
   "source": [
    "#Find mean value of end points of stock paths in SP_paths\n",
    "np.mean([path[-1] for path in SP_paths])"
   ]
  },
  {
   "cell_type": "code",
   "execution_count": null,
   "id": "1b0edd13",
   "metadata": {},
   "outputs": [],
   "source": [
    "#Simulate 1 step stock paths\n",
    "SP_paths_one_step = [geo_path_stock(S0, sigma, mu = mu, n = 1, t = 2) for _ in range(100000)]"
   ]
  },
  {
   "cell_type": "code",
   "execution_count": null,
   "id": "837ab8b3",
   "metadata": {},
   "outputs": [],
   "source": [
    "#Examine lengths of SP_paths_one_step and a path in SP_paths_one_step\n",
    "len(SP_paths_one_step), len(SP_paths_one_step[0])"
   ]
  },
  {
   "cell_type": "code",
   "execution_count": null,
   "id": "a86f4510",
   "metadata": {},
   "outputs": [],
   "source": [
    "#Find mean value of end points of stock paths in SP_paths_one_step\n",
    "np.mean([path[-1] for path in SP_paths_one_step])"
   ]
  }
 ],
 "metadata": {
  "kernelspec": {
   "display_name": "Python 3 (ipykernel)",
   "language": "python",
   "name": "python3"
  },
  "language_info": {
   "codemirror_mode": {
    "name": "ipython",
    "version": 3
   },
   "file_extension": ".py",
   "mimetype": "text/x-python",
   "name": "python",
   "nbconvert_exporter": "python",
   "pygments_lexer": "ipython3",
   "version": "3.9.13"
  }
 },
 "nbformat": 4,
 "nbformat_minor": 5
}
