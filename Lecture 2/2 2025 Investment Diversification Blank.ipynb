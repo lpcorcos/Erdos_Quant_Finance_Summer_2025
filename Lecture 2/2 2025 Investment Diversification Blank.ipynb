{
 "cells": [
  {
   "cell_type": "markdown",
   "id": "81df3efe",
   "metadata": {},
   "source": [
    "# Investment Diversification\n",
    "\n",
    "**2025 Introduction to Quantiative Methods in Finance**\n",
    "\n",
    "**The Erdös Institute**"
   ]
  },
  {
   "cell_type": "code",
   "execution_count": null,
   "id": "e36bbeea",
   "metadata": {},
   "outputs": [],
   "source": [
    "#Import Packages\n",
    "import numpy as np\n",
    "import matplotlib.pyplot as plt\n",
    "import pandas as pd\n",
    "import seaborn as sns\n",
    "from scipy.optimize import minimize\n",
    "import datetime as dt\n",
    "sns.set_style('darkgrid')\n",
    "\n",
    "import yfinance as yf"
   ]
  },
  {
   "cell_type": "code",
   "execution_count": null,
   "id": "9974452c",
   "metadata": {},
   "outputs": [],
   "source": [
    "#load data for Ford (F) and General Motors (GM) stock\n",
    "tickers = \n",
    "\n",
    "start_date = \n",
    "end_date = \n",
    "\n",
    "stock = "
   ]
  },
  {
   "cell_type": "code",
   "execution_count": null,
   "id": "168bedda",
   "metadata": {},
   "outputs": [],
   "source": [
    "#Plot Closing Price of Ford and GM stock data"
   ]
  },
  {
   "cell_type": "code",
   "execution_count": null,
   "id": "b72b09ea",
   "metadata": {},
   "outputs": [],
   "source": [
    "#Plot stock prices together\n",
    "\n"
   ]
  },
  {
   "cell_type": "code",
   "execution_count": null,
   "id": "3b681011",
   "metadata": {},
   "outputs": [],
   "source": [
    "#Add in column that is cumulative returns of the stocks\n",
    "\n",
    "# Step 1: Compute cumulative return from 'Close' prices\n",
    "close = stock['Close']\n",
    "\n",
    "\n",
    "# Step 2: Create MultiIndex columns for new data\n",
    "\n",
    "\n",
    "# Step 3: Concatenate to the original DataFrame\n",
    "\n"
   ]
  },
  {
   "cell_type": "code",
   "execution_count": null,
   "id": "f22bc3a8",
   "metadata": {},
   "outputs": [],
   "source": [
    "#Plot Cumlative Returns together\n",
    "\n"
   ]
  },
  {
   "cell_type": "code",
   "execution_count": null,
   "id": "0de2abec",
   "metadata": {},
   "outputs": [],
   "source": [
    "# Plot the cumulative returns of the following stocks over the last two years\n",
    "\n",
    "tickers = ['AMZN', 'MSFT', 'GOOG', 'HD', 'GM']\n",
    "\n",
    "start_date = \n",
    "end_date = \n",
    "\n",
    "stock = "
   ]
  },
  {
   "cell_type": "code",
   "execution_count": null,
   "id": "304d3beb",
   "metadata": {},
   "outputs": [],
   "source": [
    "#Create a dataframe of daily returns\n",
    "#It is quite common to take the logs of daily returns to lessen computational complexity in standard deviation\n",
    "daily_returns = \n",
    "\n",
    "\n",
    "\n",
    "#Create a dictionary of standard deviations of daily return\n",
    "#Normalize the standard deviation for yearly by multiplying by sqrt(#trading days in year ~ 252)\n",
    "annualized_volatility = {}"
   ]
  },
  {
   "cell_type": "code",
   "execution_count": null,
   "id": "98a3fa0d",
   "metadata": {},
   "outputs": [],
   "source": [
    "#drop na values\n",
    "log_returns = daily_returns.dropna()"
   ]
  },
  {
   "cell_type": "code",
   "execution_count": null,
   "id": "98620ab2",
   "metadata": {},
   "outputs": [],
   "source": [
    "# Calculate the covariance matrix\n",
    "covariance_matrix = "
   ]
  },
  {
   "cell_type": "code",
   "execution_count": null,
   "id": "2d0c8daf",
   "metadata": {
    "scrolled": false
   },
   "outputs": [],
   "source": [
    "# Create a heatmap to visualize the covariance matrix\n"
   ]
  },
  {
   "cell_type": "code",
   "execution_count": null,
   "id": "cec30f67",
   "metadata": {
    "scrolled": false
   },
   "outputs": [],
   "source": [
    "#Find a set of weights, equivalently portfolio investment percentages in stock_symbols, \n",
    "#which minimizes a historical portfolio's volatility subject to the following investment constraints\n",
    "#1) Must invest at least 10% of capital into each index\n",
    "#2) Cannot invest more than 35% of capital into a single index\n",
    "\n",
    "#Create dictionary average/expected daily return for indexes in stock_symbols normalized for yearly return\n",
    "#expected_returns = {stock: 252*np.mean(returns[stock]) for stock in stock_symbols}\n",
    "\n",
    "\n",
    "# Number of assets\n",
    "n_assets = \n",
    "\n",
    "# Define an initial guess for asset weights (e.g., equal weights)\n",
    "initial_weights = \n",
    "\n",
    "# Define weight constraints\n",
    "#Sum of weights equals 1 \n",
    "#Allocate at least 3% of capital into each index in stock_symbols\n",
    "#Do not allocate more than 35% of capital into each index in stock_symbol\n",
    "constraints = ({'type': 'eq', 'fun': lambda weights: np.sum(weights)-1},)\n",
    "\n",
    "# Define the objective function to minimize portfolio variance\n",
    "def portfolio_volatility(weights):\n",
    "    portfolio_std_dev = \n",
    "    return portfolio_std_dev\n",
    "\n",
    "# Run the optimization to find the optimal weights\n",
    "result = \n",
    "\n",
    "# Optimal asset weights\n",
    "optimal_weights = result.x\n",
    "optimal_vol = result.fun\n",
    "\n",
    "# Print the optimal weights and expected returns\n",
    "\n",
    "    \n",
    "#Print estimated optimal volatility subject to the constraints"
   ]
  }
 ],
 "metadata": {
  "kernelspec": {
   "display_name": "Python 3 (ipykernel)",
   "language": "python",
   "name": "python3"
  },
  "language_info": {
   "codemirror_mode": {
    "name": "ipython",
    "version": 3
   },
   "file_extension": ".py",
   "mimetype": "text/x-python",
   "name": "python",
   "nbconvert_exporter": "python",
   "pygments_lexer": "ipython3",
   "version": "3.9.13"
  }
 },
 "nbformat": 4,
 "nbformat_minor": 5
}
