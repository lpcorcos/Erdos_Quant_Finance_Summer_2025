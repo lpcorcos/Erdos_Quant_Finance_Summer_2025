{
 "cells": [
  {
   "cell_type": "markdown",
   "id": "7f3207f0",
   "metadata": {},
   "source": [
    "# Introduction to Probabilisitic Methods\n",
    "\n",
    "**2025 Introduction to Quantiative Methods in Finance**\n",
    "\n",
    "**The Erdös Institute**"
   ]
  },
  {
   "cell_type": "markdown",
   "id": "fe9bef5b",
   "metadata": {},
   "source": [
    "**Question**: What is the expected value of the roll of a fair dice with $6$ sides?"
   ]
  },
  {
   "cell_type": "markdown",
   "id": "f6b23a05",
   "metadata": {},
   "source": [
    "### Mathematical Solution\n",
    "\n",
    "Let $X$ be the random variable of rolling a single dice. The probability distribution has a uniform value of $1/6$ of any possible outcome. Therefore the expected value is\n",
    "\n",
    "$$E[X]=\\frac{1}{6}*1 + \\frac{1}{6}*2 + \\frac{1}{6}*3 + \\frac{1}{6}*4 + \\frac{1}{6}*5 + \\frac{1}{6}*6 = 3.5.$$"
   ]
  },
  {
   "cell_type": "markdown",
   "id": "78edfb7a",
   "metadata": {},
   "source": [
    "### Probabilistic Solution\n",
    "\n",
    "Approaching our objective from a probabilistic point of view, we simulate the outcomes of playing the game many times and see what happens on average."
   ]
  },
  {
   "cell_type": "code",
   "execution_count": 1,
   "id": "5bf1da44",
   "metadata": {},
   "outputs": [],
   "source": [
    "#import numpy and pyplot\n",
    "\n",
    "import numpy as np\n",
    "import matplotlib.pyplot as plt"
   ]
  },
  {
   "cell_type": "code",
   "execution_count": 2,
   "id": "623faf9e",
   "metadata": {},
   "outputs": [
    {
     "name": "stdout",
     "output_type": "stream",
     "text": [
      "The mean value of 100 simulations of dice roll is 3.58.\n"
     ]
    }
   ],
   "source": [
    "#Run dice throwing simulation with 100 rolls of the dice.\n",
    "N = 100\n",
    "\n",
    "game_outcomes = np.random.randint(low =1, high =7, size = N) # Create an array of random integers simulating dice rolls\n",
    "\n",
    "average_outcome = np.mean(game_outcomes)# Find mean of simulated dice\n",
    "\n",
    "print(f'The mean value of {N} simulations of dice roll is {average_outcome}.')"
   ]
  },
  {
   "cell_type": "code",
   "execution_count": 3,
   "id": "68aea802",
   "metadata": {},
   "outputs": [
    {
     "name": "stdout",
     "output_type": "stream",
     "text": [
      "The mean value of 100 simulations of dice roll is 3.36.\n"
     ]
    }
   ],
   "source": [
    "#Run a second simulation with 100 rolls of the dice.\n",
    "N = 100\n",
    "\n",
    "game_outcomes = np.random.randint(low =1, high =7, size = N) # Create an array of random integers simulating dice rolls\n",
    "\n",
    "average_outcome = np.mean(game_outcomes)# Find mean of simulated dice\n",
    "\n",
    "print(f'The mean value of {N} simulations of dice roll is {average_outcome}.')"
   ]
  },
  {
   "cell_type": "markdown",
   "id": "7a807984",
   "metadata": {},
   "source": [
    "### Observation\n",
    "\n",
    "The average values of the two simulation of rolling a dice 100 will likely have significant difference.\n",
    "\n",
    "Increasing the number of simulations will naturally decrease the variance in simulated outcomes."
   ]
  },
  {
   "cell_type": "code",
   "execution_count": 4,
   "id": "0e418273",
   "metadata": {},
   "outputs": [
    {
     "name": "stdout",
     "output_type": "stream",
     "text": [
      "The mean value of 10000 simulations of dice roll is 3.5008.\n"
     ]
    }
   ],
   "source": [
    "#Run simulation with 10,000 trials.\n",
    "N = 10000\n",
    "\n",
    "game_outcomes = np.random.randint(low =1, high =7, size = N) # Create an array of random integers simulating dice rolls\n",
    "\n",
    "average_outcome = np.mean(game_outcomes)# Find mean of simulated dice\n",
    "\n",
    "print(f'The mean value of {N} simulations of dice roll is {average_outcome}.')"
   ]
  },
  {
   "cell_type": "code",
   "execution_count": 5,
   "id": "d02c79f9",
   "metadata": {},
   "outputs": [
    {
     "name": "stdout",
     "output_type": "stream",
     "text": [
      "The mean value of 10000 simulations of dice roll is 3.4856.\n"
     ]
    }
   ],
   "source": [
    "#Run a second simulation with 10,000 trials\n",
    "N = 10000\n",
    "\n",
    "game_outcomes = np.random.randint(low =1, high =7, size = N) # Create an array of random integers simulating dice rolls\n",
    "\n",
    "average_outcome = np.mean(game_outcomes)# Find mean of simulated dice\n",
    "\n",
    "print(f'The mean value of {N} simulations of dice roll is {average_outcome}.')"
   ]
  },
  {
   "cell_type": "markdown",
   "id": "76e9ea4c",
   "metadata": {},
   "source": [
    "**The Central Limit Theorem** Let $X_1, X_2, \\ldots, X_n$ be a sequence of independent and identically distributed random variables with mean $\\mu$ and finite variance $\\sigma^2$. As $n$ becomes large, the distribution of the sample mean $\\bar{X}$ approaches a **normal distribution** with mean $\\mu$ and variance $\\frac{\\sigma^2}{n}$.\n",
    "\n",
    "\n",
    "The central limit theorem informs of two pieces of important information:\n",
    "\n",
    "1) As we increase the number of simulations we are more likely provided with a more reliable estimate.\n",
    "2) We can measure how likely an estimate differs from the true expected value within a given distance."
   ]
  },
  {
   "cell_type": "code",
   "execution_count": 7,
   "id": "28be91e4",
   "metadata": {
    "scrolled": false
   },
   "outputs": [
    {
     "data": {
      "image/png": "[encoded data removed]",
      "text/plain": [
       "<Figure size 640x480 with 1 Axes>"
      ]
     },
     "metadata": {},
     "output_type": "display_data"
    }
   ],
   "source": [
    "#Repeat the above simulation a large number of times.\n",
    "\n",
    "N = 750 #750 total simulations \n",
    "M =  10000# 10,000 dice rolls per simulation\n",
    "\n",
    "game_outcomes = [np.random.randint(low = 1, high =7, size =M) for i in range(N)] # Create an array of random integers simulating dice rolls\n",
    "\n",
    "average_outcomes = [np.mean(x) for x in game_outcomes] # Create an array of the average outcomes\n",
    "\n",
    "#Plot histogram of simulated means\n",
    "plt.hist(average_outcomes, bins = 50)\n",
    "plt.title(f'Histogram of {N} simulations of average of {M} dice rolls')\n",
    "plt.show()"
   ]
  },
  {
   "cell_type": "code",
   "execution_count": 8,
   "id": "695ece9f",
   "metadata": {},
   "outputs": [
    {
     "name": "stdout",
     "output_type": "stream",
     "text": [
      "Mean is 3.5005574666666663 standard deviation is 0.016068443325834503.\n"
     ]
    }
   ],
   "source": [
    " #Find sample mean and standard deviation\n",
    "mu = np.mean(average_outcomes)\n",
    "sigma = np.std(average_outcomes)\n",
    "\n",
    "print(f'Mean is {mu} standard deviation is {sigma}.')"
   ]
  },
  {
   "cell_type": "code",
   "execution_count": 9,
   "id": "e1a3238d",
   "metadata": {},
   "outputs": [
    {
     "data": {
      "image/png": "[encoded data removed]",
      "text/plain": [
       "<Figure size 640x480 with 1 Axes>"
      ]
     },
     "metadata": {},
     "output_type": "display_data"
    }
   ],
   "source": [
    "# Create histogram of random draws from normal distribution\n",
    "# with mean and standard deviation that matches the sample\n",
    "\n",
    "normal_values = [np.random.normal(loc = mu, scale = sigma) for i in range(N)]\n",
    "\n",
    "plt.hist(normal_values, bins = 50)\n",
    "plt.title(f'Histogram of normal distribution')\n",
    "plt.show()"
   ]
  },
  {
   "cell_type": "markdown",
   "id": "0dcf1124",
   "metadata": {},
   "source": [
    "# **The 68-95-99.7 Rule**\n",
    "\n",
    "If $\\sigma$ is the sample standard deviation of an experiment with simulated value $E$ with true mean $\\mu$, then there is approximately a $68\\%$ chance that $|E-\\mu|\\leq \\sigma$, approximately a $95\\%$ that $|E-\\mu|\\leq 2\\sigma$, and a $99.7\\%$ chance that $|E-\\mu|\\leq 3\\sigma$."
   ]
  },
  {
   "cell_type": "code",
   "execution_count": 10,
   "id": "6e49bf08",
   "metadata": {},
   "outputs": [
    {
     "name": "stdout",
     "output_type": "stream",
     "text": [
      "We expect 68% of the experiments to be within 0.016068443325834503 of the true mean of 3.5\n",
      "--------------\n",
      "We expect 95% of the experiments to be within 0.03213688665166901 of the true mean of 3.5\n",
      "--------------\n",
      "We expect 99.7% of the experiments to be within 0.048205329977503514 of the true mean of 3.5\n",
      "--------------\n"
     ]
    }
   ],
   "source": [
    "#Print what we expect by the 68-95-99.7 rule\n",
    "\n",
    "print(f'We expect 68% of the experiments to be within {sigma} of the true mean of 3.5')\n",
    "print('--------------')\n",
    "print(f'We expect 95% of the experiments to be within {2*sigma} of the true mean of 3.5')\n",
    "print('--------------')\n",
    "print(f'We expect 99.7% of the experiments to be within {3*sigma} of the true mean of 3.5')\n",
    "print('--------------')"
   ]
  },
  {
   "cell_type": "code",
   "execution_count": 15,
   "id": "17f5859a",
   "metadata": {},
   "outputs": [
    {
     "name": "stdout",
     "output_type": "stream",
     "text": [
      "Outcomes within one standard deviation is 68.53333333333333%\n",
      "Outcomes within two standard deviation is 95.46666666666667%\n",
      "Outcomes within three standard deviation is 99.86666666666667%\n"
     ]
    }
   ],
   "source": [
    "#Sort experiments if sample mean is within 1,2, and 3 standard deviations of the true mean of 3.5\n",
    "average_outcomes_one_std = [x for x in average_outcomes if np.abs(x - 3.5) <= sigma]\n",
    "average_outcomes_two_std = [x for x in average_outcomes if np.abs(x-3.5)<=2*sigma]\n",
    "average_outcomes_three_std = [x for x in average_outcomes if np.abs(x-3.5)<=3*sigma]\n",
    "\n",
    "\n",
    "#Find if the percentage of average outcomes matches expectations.\n",
    "percent_one_std = len(average_outcomes_one_std)/N\n",
    "percent_two_std = len(average_outcomes_two_std)/N\n",
    "percent_three_std = len(average_outcomes_three_std)/N\n",
    "\n",
    "#Print the percentage of experiments within 1,2, and 3 standard deviations.\n",
    "print(f'Outcomes within one standard deviation is {100*percent_one_std}%')\n",
    "print(f'Outcomes within two standard deviation is {100*percent_two_std}%')\n",
    "print(f'Outcomes within three standard deviation is {100*percent_three_std}%')"
   ]
  },
  {
   "cell_type": "markdown",
   "id": "fcfad45c",
   "metadata": {},
   "source": [
    "## Probabilistic Concepts in Dice Roll Simulation\n",
    "\n",
    "- The **sample space** of the simple dice game is the possible outcomes of playing the game, i.e. rolling a 1, 2, 3, 4, 5 or 6.\n",
    "\n",
    "<br>\n",
    "\n",
    "- The **probability distribution** of the simple dice game is an assignment of a probability to each outcome. The dice is fair, so each outcome has a probability of $1/6$.\n",
    "\n",
    "<br>\n",
    "\n",
    "- **Simulation** is used to estimate the expected value. Simulation techniques are the core of finding value to financial instruments and investment strategies.\n",
    "\n",
    "<br>\n",
    "\n",
    "- As we increse the number of simulations of the simple dice game, the average values seem to stabilize around a common value, namely the expected value. This phenomena is precisely the content of the **The Theorem of Large Numbers**.\n",
    "\n",
    "<br>\n",
    "\n",
    "- As we increase the number of simulations, the variance between simulated expected values and the true expected value decreases. This process aligns with the **Central Limit Theorem**, which states that the sample mean of a sufficiently large number of independent and identically distributed random variables will follow a normal distribution. This theorem is fundamental to quantitative finance, enabling us to apply **probabilisitic methodology** to value portfolios, determine fair stock option pricing, and perform risk assessment with confidence. We can then use **statistical methodology** to measure the confidence of our simulated measurements."
   ]
  },
  {
   "cell_type": "markdown",
   "id": "cda18728",
   "metadata": {},
   "source": [
    "## More Monte-Carlo Simulations\n",
    "\n",
    "\n",
    "**Estimating $\\sqrt{2}$**\n",
    "\n",
    "Consider the line segment joining the point $(0,0)$ and $(1,1)$. This line segment is of length $\\sqrt{2}$ and the subline segment joining $(0,0)$ to $\\left(\\frac{\\sqrt{2}}{{2}}, \\frac{\\sqrt{2}}{{2}}\\right)$ has length $1$. Therefore the probability of randomly selectly a point on this line within the subline segment is $\\frac{1}{\\sqrt{2}} = \\frac{\\sqrt{2}}{2}$. Every point on the line segment is of the form $(x,x)$ with $0\\leq x\\leq 1$ and such a point lies within the subline segment of length $1$ if and only if $2x^2 \\leq 1$. We therefore can estimate $\\sqrt{2}$ by selecting $x$ from the unit interval $[0,1]$ with uniform distribution and measure the ratio of $x$-values with the property that $2x^2\\leq 1$. Multiplying the result by $2$ yields an estimate for $\\sqrt{2}$.  "
   ]
  },
  {
   "cell_type": "code",
   "execution_count": 18,
   "id": "a8d77c01",
   "metadata": {},
   "outputs": [
    {
     "name": "stdout",
     "output_type": "stream",
     "text": [
      "Estimated value of sqrt(2) is 1.4108.\n"
     ]
    }
   ],
   "source": [
    "#Run 10,000 experiments to simulate the value of \\sqrt{2}\n",
    "N = 10000\n",
    "\n",
    "X = [np.random.uniform(0,1) for i in range(N)]  # select N random values in the unit interval\n",
    "\n",
    "Y = [x for x in X if 2*x**2<= 1] # store random values that satisfy 2x^2<= 1\n",
    "\n",
    "sqrt_2_estimate = 2*len(Y)/len(X) #Estimate sqrt 2 from the simulation\n",
    "\n",
    "#Print the simulated value of \\sqrt{2}.\n",
    "print(f'Estimated value of sqrt(2) is {sqrt_2_estimate}.')"
   ]
  },
  {
   "cell_type": "code",
   "execution_count": 17,
   "id": "2d755c1b",
   "metadata": {},
   "outputs": [
    {
     "data": {
      "text/plain": [
       "np.float64(1.4142135623730951)"
      ]
     },
     "execution_count": 17,
     "metadata": {},
     "output_type": "execute_result"
    }
   ],
   "source": [
    "#Compare simulated value with the actual value of \\sqrt{2} given by numpy.\n",
    "np.sqrt(2)"
   ]
  },
  {
   "cell_type": "markdown",
   "id": "f0cff262",
   "metadata": {},
   "source": [
    "**Question**: Consider the uniform distribution on the unit interval $[0,1]$. \n",
    "\n",
    "What is the expected number of draws needed for the sum to exceed $1$?"
   ]
  },
  {
   "cell_type": "code",
   "execution_count": 20,
   "id": "51088cb8",
   "metadata": {},
   "outputs": [
    {
     "name": "stdout",
     "output_type": "stream",
     "text": [
      "Average number of draws needed is 2.714.\n"
     ]
    }
   ],
   "source": [
    "#Define a function that performs a simulation of drawing numbers at random from\n",
    "#the uniform distribution until the sum exceeds 1 and returns average number of draws needed\n",
    "\n",
    "\n",
    "def exceed_one():\n",
    "    s  = 0# s will be the sum of random draws from unit interval\n",
    "    n  = 0# n is the number of draws needed until the sum exceeds 1\n",
    "    while s<=1:\n",
    "        n+=1\n",
    "        s+= np.random.uniform(0,1)\n",
    "    return n\n",
    "\n",
    "\n",
    "#Perform 10,000 simulations\n",
    "N = 10000 #Number of simulations\n",
    "X = [exceed_one() for i in range(N)] # store number of draws needed over N simulations\n",
    "\n",
    "#Print average number of draws needed.\n",
    "print(f'Average number of draws needed is {np.mean(X)}.')"
   ]
  },
  {
   "cell_type": "markdown",
   "id": "37677d74",
   "metadata": {},
   "source": [
    "## Mathematical Solution\n",
    "\n",
    "With the right trick, it is not difficult to prove that the true expected value is Euler's constant $e$.\n",
    "\n",
    "**Sketch of Proof**\n",
    "\n",
    "Given a real number $x\\geq 0$ let $f(x)$ be the expected number of draws from the unit interval so that the sum exceeds $x$. \n",
    "\n",
    "Given $x\\in \\mathbb{R}$, to compute the the probability $f(x)$ we consider the conditional relation that the expected number of random draws needed for the sum to exceed $x$ is $1$ more than average number of expected draws needed over the interval $(x-1,x]$. This is expressed as an equation\n",
    "\n",
    "$$\n",
    "f(x)= 1 + \\int_{x-1}^{x} f(z)\\,dz.\n",
    "$$\n",
    "\n",
    "If $z<0$ then $f(z)=0$. We therefore restrict our attention to $x$-values which lie in the unit interval $[0,1]$ so that\n",
    "\n",
    "$$\n",
    "f(x)= 1 + \\int_{x-1}^{x} f(z)\\,dz = 1 + \\int_{0}^{x} f(z)\\,dz.\n",
    "$$\n",
    "\n",
    "Taking derivatives of the furtherest-left and furtherest-right expressions in the equation, and applying the Fundamental Theorem of Calculus;\n",
    "\n",
    "$$\n",
    "f'(x) = f(x).\n",
    "$$\n",
    "\n",
    "We have an initial condition that $f(0)=1$. Therefore the solution function for $0\\leq x\\leq 1$ is $f(x)=e^x$. In particular, $f(1)=e$ is the expected number of draws needed from the unit interval with uniform distribution for the sum of the random variables to exceed $1$."
   ]
  }
 ],
 "metadata": {
  "kernelspec": {
   "display_name": "Python 3 (ipykernel)",
   "language": "python",
   "name": "python3"
  },
  "language_info": {
   "codemirror_mode": {
    "name": "ipython",
    "version": 3
   },
   "file_extension": ".py",
   "mimetype": "text/x-python",
   "name": "python",
   "nbconvert_exporter": "python",
   "pygments_lexer": "ipython3",
   "version": "3.9.13"
  }
 },
 "nbformat": 4,
 "nbformat_minor": 5
}
