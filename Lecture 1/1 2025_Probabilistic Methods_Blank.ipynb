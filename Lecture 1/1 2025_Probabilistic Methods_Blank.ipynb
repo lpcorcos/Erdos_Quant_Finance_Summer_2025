{
 "cells": [
  {
   "cell_type": "markdown",
   "id": "7f3207f0",
   "metadata": {},
   "source": [
    "# Introduction to Probabilisitic Methods\n",
    "\n",
    "**2025 Introduction to Quantiative Methods in Finance**\n",
    "\n",
    "**The Erdös Institute**"
   ]
  },
  {
   "cell_type": "markdown",
   "id": "fe9bef5b",
   "metadata": {},
   "source": [
    "**Question**: What is the expected value of the roll of a fair dice with $6$ sides?"
   ]
  },
  {
   "cell_type": "markdown",
   "id": "f6b23a05",
   "metadata": {},
   "source": [
    "### Mathematical Solution\n",
    "\n",
    "Let $X$ be the random variable of rolling a single dice. The probability distribution has a uniform value of $1/6$ of any possible outcome. Therefore the expected value is\n",
    "\n",
    "$$E[X]=\\frac{1}{6}*1 + \\frac{1}{6}*2 + \\frac{1}{6}*3 + \\frac{1}{6}*4 + \\frac{1}{6}*5 + \\frac{1}{6}*6 = 3.5.$$"
   ]
  },
  {
   "cell_type": "markdown",
   "id": "78edfb7a",
   "metadata": {},
   "source": [
    "### Probabilistic Solution\n",
    "\n",
    "Approaching our objective from a probabilistic point of view, we simulate the outcomes of playing the game many times and see what happens on average."
   ]
  },
  {
   "cell_type": "code",
   "execution_count": null,
   "id": "5bf1da44",
   "metadata": {},
   "outputs": [],
   "source": [
    "#import numpy and pyplot"
   ]
  },
  {
   "cell_type": "code",
   "execution_count": null,
   "id": "623faf9e",
   "metadata": {},
   "outputs": [],
   "source": [
    "#Run dice throwing simulation with 100 rolls of the dice.\n",
    "N = 100\n",
    "\n",
    "game_outcomes =  # Create an array of random integers simulating dice rolls\n",
    "\n",
    "average_outcome = # Find mean of simulated dice"
   ]
  },
  {
   "cell_type": "code",
   "execution_count": null,
   "id": "68aea802",
   "metadata": {},
   "outputs": [],
   "source": [
    "#Run a second simulation with 100 rolls of the dice."
   ]
  },
  {
   "cell_type": "markdown",
   "id": "7a807984",
   "metadata": {},
   "source": [
    "### Observation\n",
    "\n",
    "The average values of the two simulation of rolling a dice 100 will likely have significant difference.\n",
    "\n",
    "Increasing the number of simulations will naturally decrease the variance in simulated outcomes."
   ]
  },
  {
   "cell_type": "code",
   "execution_count": null,
   "id": "0e418273",
   "metadata": {},
   "outputs": [],
   "source": [
    "#Run simulation with 10,000 trials."
   ]
  },
  {
   "cell_type": "code",
   "execution_count": null,
   "id": "d02c79f9",
   "metadata": {},
   "outputs": [],
   "source": [
    "#Run a second simulation with 10,000 trials"
   ]
  },
  {
   "cell_type": "markdown",
   "id": "76e9ea4c",
   "metadata": {},
   "source": [
    "**The Central Limit Theorem** Let $X_1, X_2, \\ldots, X_n$ be a sequence of independent and identically distributed random variables with mean $\\mu$ and finite variance $\\sigma^2$. As $n$ becomes large, the distribution of the sample mean $\\bar{X}$ approaches a **normal distribution** with mean $\\mu$ and variance $\\frac{\\sigma^2}{n}$.\n",
    "\n",
    "\n",
    "The central limit theorem informs of two pieces of important information:\n",
    "\n",
    "1) As we increase the number of simulations we are more likely provided with a more reliable estimate.\n",
    "2) We can measure how likely an estimate differs from the true expected value within a given distance."
   ]
  },
  {
   "cell_type": "code",
   "execution_count": null,
   "id": "28be91e4",
   "metadata": {
    "scrolled": false
   },
   "outputs": [],
   "source": [
    "#Repeat the above simulation a large number of times.\n",
    "\n",
    "N =  #750 total simulations \n",
    "M =  # 10,000 dice rolls per simulation\n",
    "\n",
    "game_outcomes = # Create an array of random integers simulating dice rolls\n",
    "\n",
    "average_outcomes =  # Create an array of the average outcomes\n",
    "\n",
    "#Plot histogram of simulated means"
   ]
  },
  {
   "cell_type": "code",
   "execution_count": null,
   "id": "695ece9f",
   "metadata": {},
   "outputs": [],
   "source": [
    " #Find sample mean and standard deviation"
   ]
  },
  {
   "cell_type": "code",
   "execution_count": null,
   "id": "e1a3238d",
   "metadata": {},
   "outputs": [],
   "source": [
    "# Create histogram of random draws from normal distribution\n",
    "# with mean and standard deviation that matches the sample"
   ]
  },
  {
   "cell_type": "markdown",
   "id": "0dcf1124",
   "metadata": {},
   "source": [
    "# **The 68-95-99.7 Rule**\n",
    "\n",
    "If $\\sigma$ is the sample standard deviation of an experiment with simulated value $E$ with true mean $\\mu$, then there is approximately a $68\\%$ chance that $|E-\\mu|\\leq \\sigma$, approximately a $95\\%$ that $|E-\\mu|\\leq 2\\sigma$, and a $99.7\\%$ chance that $|E-\\mu|\\leq 3\\sigma$."
   ]
  },
  {
   "cell_type": "code",
   "execution_count": null,
   "id": "6e49bf08",
   "metadata": {},
   "outputs": [],
   "source": [
    "#Print what we expect by the 68-95-99.7 rule"
   ]
  },
  {
   "cell_type": "code",
   "execution_count": null,
   "id": "17f5859a",
   "metadata": {},
   "outputs": [],
   "source": [
    "#Sort experiments if sample mean is within 1,2, and 3 standard deviations of the true mean of 3.5\n",
    "average_outcomes_one_std = \n",
    "average_outcomes_two_std = \n",
    "average_outcomes_three_std = \n",
    "\n",
    "\n",
    "#Find if the percentage of average outcomes matches expectations.\n",
    "percent_one_std = \n",
    "percent_two_std = \n",
    "percent_three_std = \n",
    "\n",
    "#Print the percentage of experiments within 1,2, and 3 standard deviations."
   ]
  },
  {
   "cell_type": "markdown",
   "id": "fcfad45c",
   "metadata": {},
   "source": [
    "## Probabilistic Concepts in Dice Roll Simulation\n",
    "\n",
    "- The **sample space** of the simple dice game is the possible outcomes of playing the game, i.e. rolling a 1, 2, 3, 4, 5 or 6.\n",
    "\n",
    "<br>\n",
    "\n",
    "- The **probability distribution** of the simple dice game is an assignment of a probability to each outcome. The dice is fair, so each outcome has a probability of $1/6$.\n",
    "\n",
    "<br>\n",
    "\n",
    "- **Simulation** is used to estimate the expected value. Simulation techniques are the core of finding value to financial instruments and investment strategies.\n",
    "\n",
    "<br>\n",
    "\n",
    "- As we increse the number of simulations of the simple dice game, the average values seem to stabilize around a common value, namely the expected value. This phenomena is precisely the content of the **The Theorem of Large Numbers**.\n",
    "\n",
    "<br>\n",
    "\n",
    "- As we increase the number of simulations, the variance between simulated expected values and the true expected value decreases. This process aligns with the **Central Limit Theorem**, which states that the sample mean of a sufficiently large number of independent and identically distributed random variables will follow a normal distribution. This theorem is fundamental to quantitative finance, enabling us to apply **probabilisitic methodology** to value portfolios, determine fair stock option pricing, and perform risk assessment with confidence. We can then use **statistical methodology** to measure the confidence of our simulated measurements."
   ]
  },
  {
   "cell_type": "markdown",
   "id": "cda18728",
   "metadata": {},
   "source": [
    "## More Monte-Carlo Simulations\n",
    "\n",
    "\n",
    "**Estimating $\\sqrt{2}$**\n",
    "\n",
    "Consider the line segment joining the point $(0,0)$ and $(1,1)$. This line segment is of length $\\sqrt{2}$ and the subline segment joining $(0,0)$ to $\\left(\\frac{\\sqrt{2}}{{2}}, \\frac{\\sqrt{2}}{{2}}\\right)$ has length $1$. Therefore the probability of randomly selectly a point on this line within the subline segment is $\\frac{1}{\\sqrt{2}} = \\frac{\\sqrt{2}}{2}$. Every point on the line segment is of the form $(x,x)$ with $0\\leq x\\leq 1$ and such a point lies within the subline segment of length $1$ if and only if $2x^2 \\leq 1$. We therefore can estimate $\\sqrt{2}$ by selecting $x$ from the unit interval $[0,1]$ with uniform distribution and measure the ratio of $x$-values with the property that $2x^2\\leq 1$. Multiplying the result by $2$ yields an estimate for $\\sqrt{2}$.  "
   ]
  },
  {
   "cell_type": "code",
   "execution_count": null,
   "id": "a8d77c01",
   "metadata": {},
   "outputs": [],
   "source": [
    "#Run 10,000 experiments to simulate the value of \\sqrt{2}\n",
    "N = \n",
    "\n",
    "X =  # select N random values in the unit interval\n",
    "\n",
    "Y = # store random values that satisfy 2x^2<= 1\n",
    "\n",
    "sqrt_2_estimate = #Estimate sqrt 2 from the simulation\n",
    "\n",
    "#Print the simulated value of \\sqrt{2}."
   ]
  },
  {
   "cell_type": "code",
   "execution_count": null,
   "id": "2d755c1b",
   "metadata": {},
   "outputs": [],
   "source": [
    "#Compare simulated value with the actual value of \\sqrt{2} given by numpy."
   ]
  },
  {
   "cell_type": "markdown",
   "id": "f0cff262",
   "metadata": {},
   "source": [
    "**Question**: Consider the uniform distribution on the unit interval $[0,1]$. \n",
    "\n",
    "What is the expected number of draws needed for the sum to exceed $1$?"
   ]
  },
  {
   "cell_type": "code",
   "execution_count": null,
   "id": "51088cb8",
   "metadata": {},
   "outputs": [],
   "source": [
    "#Define a function that performs a simulation of drawing numbers at random from\n",
    "#the uniform distribution until the sum exceeds 1 and returns average number of draws needed\n",
    "\n",
    "\n",
    "def exceed_one():\n",
    "    s  # s will be the sum of random draws from unit interval\n",
    "    n  # n is the number of draws needed until the sum exceeds 1\n",
    "    while :\n",
    "        \n",
    "    return n\n",
    "\n",
    "\n",
    "#Perform 10,000 simulations\n",
    "N =  #Number of simulations\n",
    "X =  # store number of draws needed over N simulations\n",
    "\n",
    "#Print average number of draws needed."
   ]
  },
  {
   "cell_type": "markdown",
   "id": "37677d74",
   "metadata": {},
   "source": [
    "## Mathematical Solution\n",
    "\n",
    "With the right trick, it is not difficult to prove that the true expected value is Euler's constant $e$.\n",
    "\n",
    "**Sketch of Proof**\n",
    "\n",
    "Given a real number $x\\geq 0$ let $f(x)$ be the expected number of draws from the unit interval so that the sum exceeds $x$. \n",
    "\n",
    "Given $x\\in \\mathbb{R}$, to compute the the probability $f(x)$ we consider the conditional relation that the expected number of random draws needed for the sum to exceed $x$ is $1$ more than average number of expected draws needed over the interval $(x-1,x]$. This is expressed as an equation\n",
    "\n",
    "$$\n",
    "f(x)= 1 + \\int_{x-1}^{x} f(z)\\,dz.\n",
    "$$\n",
    "\n",
    "If $z<0$ then $f(z)=0$. We therefore restrict our attention to $x$-values which lie in the unit interval $[0,1]$ so that\n",
    "\n",
    "$$\n",
    "f(x)= 1 + \\int_{x-1}^{x} f(z)\\,dz = 1 + \\int_{0}^{x} f(z)\\,dz.\n",
    "$$\n",
    "\n",
    "Taking derivatives of the furtherest-left and furtherest-right expressions in the equation, and applying the Fundamental Theorem of Calculus;\n",
    "\n",
    "$$\n",
    "f'(x) = f(x).\n",
    "$$\n",
    "\n",
    "We have an initial condition that $f(0)=1$. Therefore the solution function for $0\\leq x\\leq 1$ is $f(x)=e^x$. In particular, $f(1)=e$ is the expected number of draws needed from the unit interval with uniform distribution for the sum of the random variables to exceed $1$."
   ]
  }
 ],
 "metadata": {
  "kernelspec": {
   "display_name": "Python 3 (ipykernel)",
   "language": "python",
   "name": "python3"
  },
  "language_info": {
   "codemirror_mode": {
    "name": "ipython",
    "version": 3
   },
   "file_extension": ".py",
   "mimetype": "text/x-python",
   "name": "python",
   "nbconvert_exporter": "python",
   "pygments_lexer": "ipython3",
   "version": "3.9.13"
  }
 },
 "nbformat": 4,
 "nbformat_minor": 5
}
