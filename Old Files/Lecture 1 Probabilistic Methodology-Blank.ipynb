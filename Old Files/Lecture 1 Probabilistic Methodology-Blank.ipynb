{
 "cells": [
  {
   "cell_type": "markdown",
   "id": "59bb76a2-a787-41a2-b21d-2dbaf172c0c5",
   "metadata": {},
   "source": [
    "# Introduction to Probabilisitic Methods\n",
    "\n",
    "**Introduction to Quantiative Methods in Finance**\n",
    "\n",
    "**The Erdös Institute**\n",
    "\n",
    "In this initial lecture, we review core concepts of probability theory through examples relevant to quantitative methods in finance."
   ]
  },
  {
   "cell_type": "markdown",
   "id": "d8fec303",
   "metadata": {},
   "source": [
    "Let us begin with an objective to value a simple dice game from the point of view of a rational investor.\n",
    "\n",
    "Simple Dice Game:\n",
    "- A fair six sided dice is to be rolled once. The player receives a payment in the amount of the number rolled.\n",
    "\n",
    "Objective:\n",
    "- How much money would an investor be willing to pay in order to play this game?\n",
    "\n",
    "Answer:\n",
    "- Solve for the expected value of the roll of a single die."
   ]
  },
  {
   "cell_type": "markdown",
   "id": "5e89420d-8d5b-4a19-bccb-672aacc3ecdd",
   "metadata": {},
   "source": [
    "### Mathematical Solution\n",
    "\n",
    "There is a simple mathematical solution to the objective by computing the expected outcome. Each role has an equal chance of $1/6$ to be rolled and the expected value of any given role is then\n",
    "\n",
    "$$\\frac{1}{6}*1 + \\frac{1}{6}*2 + \\frac{1}{6}*3 + \\frac{1}{6}*4 + \\frac{1}{6}*5 + \\frac{1}{6}*6 = 3.5.$$\n",
    "\n",
    "### Probabilistic Solution\n",
    "\n",
    "Approaching our objective from a probabilistic point of view, we simulate the outcomes of playing the game many times and see what happens on average."
   ]
  },
  {
   "cell_type": "code",
   "execution_count": 6,
   "id": "b2700ba6",
   "metadata": {},
   "outputs": [
    {
     "name": "stdout",
     "output_type": "stream",
     "text": [
      "The average value of a dice roll after 100 rolls is 3.71.\n"
     ]
    }
   ],
   "source": [
    "import numpy as np\n",
    "\n",
    "#Run dice throwing simulation with 100 rolls of the dice.\n",
    "N = 100\n",
    "\n",
    "game_outcomes = np.random.randint(low = 1, high = 7, size = N) # Create an array of random integers simulating dice rolls\n",
    "\n",
    "average_outcome = np.mean(game_outcomes)\n",
    "\n",
    "print(f\"The average value of a dice roll after {N} rolls is {average_outcome}.\")"
   ]
  },
  {
   "cell_type": "code",
   "execution_count": 7,
   "id": "bfe91c3a-cc1b-4f45-adb1-444cc0804fbd",
   "metadata": {
    "tags": []
   },
   "outputs": [
    {
     "name": "stdout",
     "output_type": "stream",
     "text": [
      "The average value of a dice roll after 100 rolls is 3.24.\n"
     ]
    }
   ],
   "source": [
    "# Copy and paste the above code and run simulation a second time.\n",
    "\n",
    "import numpy as np\n",
    "\n",
    "#Run dice throwing simulation with 100 rolls of the dice.\n",
    "N = 100\n",
    "\n",
    "game_outcomes = np.random.randint(low = 1, high = 7, size = N) # Create an array of random integers simulating dice rolls\n",
    "\n",
    "average_outcome = np.mean(game_outcomes)\n",
    "\n",
    "print(f\"The average value of a dice roll after {N} rolls is {average_outcome}.\")"
   ]
  },
  {
   "cell_type": "markdown",
   "id": "a120a3eb-49b5-454f-b3d9-8c1ec0135069",
   "metadata": {},
   "source": [
    "### Observation\n",
    "\n",
    "The average values of the two simulation of rolling a dice 100 will likely have significant difference.\n",
    "\n",
    "Increasing the number of simulations will naturally decrease the variance in simulated outcomes."
   ]
  },
  {
   "cell_type": "code",
   "execution_count": 8,
   "id": "b2b34f97-924a-42ae-96af-a81fe896d940",
   "metadata": {
    "tags": []
   },
   "outputs": [
    {
     "name": "stdout",
     "output_type": "stream",
     "text": [
      "The average value of a dice roll after 100000 rolls is 3.4987.\n"
     ]
    }
   ],
   "source": [
    "#Run simulation with more trials\n",
    "#Run dice throwing simulation with 100000 rolls of the dice.\n",
    "N = 100000\n",
    "\n",
    "game_outcomes = np.random.randint(low = 1, high = 7, size = N) # Create an array of random integers simulating dice rolls\n",
    "\n",
    "average_outcome = np.mean(game_outcomes)\n",
    "\n",
    "print(f\"The average value of a dice roll after {N} rolls is {average_outcome}.\")"
   ]
  },
  {
   "cell_type": "code",
   "execution_count": 9,
   "id": "824f8b59-160f-434c-aa3f-af9844cc2031",
   "metadata": {
    "tags": []
   },
   "outputs": [
    {
     "name": "stdout",
     "output_type": "stream",
     "text": [
      "The average value of a dice roll after 100000 rolls is 3.49356.\n"
     ]
    }
   ],
   "source": [
    "#Run simulation with more trials a second time.\n",
    "N = 100000\n",
    "\n",
    "game_outcomes = np.random.randint(low = 1, high = 7, size = N) # Create an array of random integers simulating dice rolls\n",
    "\n",
    "average_outcome = np.mean(game_outcomes)\n",
    "\n",
    "print(f\"The average value of a dice roll after {N} rolls is {average_outcome}.\")"
   ]
  },
  {
   "cell_type": "markdown",
   "id": "1022a8c5-f117-4c42-9270-84a1e1b14a4a",
   "metadata": {},
   "source": [
    "**The Central Limit Theorem** Let $X_1, X_2, \\ldots, X_n$ be a sequence of independent and identically distributed random variables with mean $\\mu$ and finite variance $\\sigma^2$. As $n$ becomes large, the distribution of the sample mean $\\bar{X}$ approaches a **normal distribution** with mean $\\mu$ and variance $\\frac{\\sigma^2}{n}$.\n",
    "\n",
    "\n",
    "The central limit theorem informs of two pieces of important information:\n",
    "\n",
    "1) As we increase the number of simulations we are more likely provided with a more reliable estimate.\n",
    "2) We can measure how likely an estimate differs from the true expected value within a given distance."
   ]
  },
  {
   "cell_type": "code",
   "execution_count": 10,
   "id": "18e394b2-3e0d-42f9-8689-988deadcde56",
   "metadata": {
    "tags": []
   },
   "outputs": [
    {
     "data": {
      "image/png": "[encoded data removed]",
      "text/plain": [
       "<Figure size 640x480 with 1 Axes>"
      ]
     },
     "metadata": {},
     "output_type": "display_data"
    }
   ],
   "source": [
    "#Repeat the above simulation a large number of times.\n",
    "\n",
    "N = 10000 #10000 total simulations \n",
    "M = 750 # 750 dice rolls per simulation\n",
    "\n",
    "game_outcomes = [np.random.randint(low = 1, high = 7, size = M) for i in range(N)] # Create an array of random integers simulating dice rolls\n",
    "\n",
    "average_outcomes = [np.mean(game_outcome) for game_outcome in game_outcomes]\n",
    "\n",
    "\n",
    "import matplotlib.pyplot as plt\n",
    "\n",
    "plt.hist(average_outcomes, bins = 100)\n",
    "plt.title(f'Histogram of {N} simulations of averaging {M} die rolls', size = 20)\n",
    "\n",
    "plt.show()"
   ]
  },
  {
   "cell_type": "markdown",
   "id": "9641b95b-3f5d-4ce4-90e0-960a8ae18719",
   "metadata": {
    "tags": []
   },
   "source": [
    "# **The 68-95-99.7 Rule**\n",
    "\n",
    "If $\\sigma$ is the sample standard deviation of an experiment with simulated value $E$ with true mean $\\mu$, then there is approximately a $68\\%$ chance that $|E-\\mu|\\leq \\sigma$, approximately a $95\\%$ that $|E-\\mu|\\leq 2\\sigma$, and a $99.7\\%$ chance that $|E-\\mu|\\leq 3\\sigma$."
   ]
  },
  {
   "cell_type": "code",
   "execution_count": 11,
   "id": "b34c5860-2604-4f79-bbbe-811c25cdc7ea",
   "metadata": {
    "tags": []
   },
   "outputs": [
    {
     "name": "stdout",
     "output_type": "stream",
     "text": [
      "We expect approximately 68% of the experiments to be within 0.06232170956662427 of the true expected value of 3.5.\n",
      "-----------\n",
      "We expect approximately 95% of the experiments to be within 0.12464341913324854 of the true expected value of 3.5.\n",
      "-----------\n",
      "We expect approximately 99.7% of the experiments to be within 0.1869651286998728 of the true expected value of 3.5.\n",
      "-----------\n"
     ]
    }
   ],
   "source": [
    "sigma = np.std(average_outcomes) #Find sample standard deviation\n",
    "print(f'We expect approximately 68% of the experiments to be within {sigma} of the true expected value of 3.5.')\n",
    "print('-----------')\n",
    "print(f'We expect approximately 95% of the experiments to be within {2*sigma} of the true expected value of 3.5.')\n",
    "print('-----------')\n",
    "print(f'We expect approximately 99.7% of the experiments to be within {3*sigma} of the true expected value of 3.5.')\n",
    "print('-----------')"
   ]
  },
  {
   "cell_type": "code",
   "execution_count": 12,
   "id": "34dd36c3-ad83-44f6-afd9-c5d45bca9d2f",
   "metadata": {
    "tags": []
   },
   "outputs": [
    {
     "name": "stdout",
     "output_type": "stream",
     "text": [
      "67.77% of the experiments were within 0.06232170956662427 of the true expected value of 3.5.\n",
      "-----------\n",
      "95.55% of the experiments were within 0.12464341913324854 of the true expected value of 3.5.\n",
      "-----------\n",
      "99.74% of the experiments were within 0.1869651286998728 of the true expected value of 3.5.\n",
      "-----------\n"
     ]
    }
   ],
   "source": [
    "import numpy as np\n",
    "\n",
    "\n",
    "average_outcomes_one_std = [x for x in average_outcomes if np.abs(x - 3.5) <= sigma]\n",
    "average_outcomes_two_std = [x for x in average_outcomes if np.abs(x - 3.5) <= 2 * sigma]\n",
    "average_outcomes_three_std = [x for x in average_outcomes if np.abs(x - 3.5) <= 3 * sigma]\n",
    "\n",
    "percent_one_std = len(average_outcomes_one_std)/N\n",
    "percent_two_std = len(average_outcomes_two_std)/N\n",
    "percent_three_std = len(average_outcomes_three_std)/N\n",
    "\n",
    "\n",
    "print(f'{np.round(percent_one_std*100,2)}% of the experiments were within {sigma} of the true expected value of 3.5.')\n",
    "print('-----------')\n",
    "print(f'{np.round(percent_two_std*100,2)}% of the experiments were within {2*sigma} of the true expected value of 3.5.')\n",
    "print('-----------')\n",
    "print(f'{np.round(percent_three_std*100,2)}% of the experiments were within {3*sigma} of the true expected value of 3.5.')\n",
    "print('-----------')"
   ]
  },
  {
   "cell_type": "markdown",
   "id": "34a73240-3e0f-408b-8095-71d4cb55b37d",
   "metadata": {
    "tags": []
   },
   "source": [
    "## Probabilistic Concepts in the Simple Dice Game\n",
    "\n",
    "- The **sample space** of the simple dice game is the possible outcomes of playing the game, i.e. rolling a 1, 2, 3, 4, 5 or 6.\n",
    "\n",
    "<br>\n",
    "\n",
    "- The **probability distribution** of the simple dice game is an assignment of a probability to each outcome. The dice is fair, so each outcome has a probability of $1/6$.\n",
    "\n",
    "<br>\n",
    "\n",
    "- **Simulation** is used to estimate the expected value. Simulation techniques are the core of finding value to financial instruments and investment strategies.\n",
    "\n",
    "<br>\n",
    "\n",
    "- As we increse the number of simulations of the simple dice game, the average values seem to stabilize around a common value, namely the expected value. This phenomena is precisely the content of the **The Theorem of Large Numbers**.\n",
    "\n",
    "<br>\n",
    "\n",
    "- As we increase the number of simulations, the variance between simulated expected values and the true expected value decreases. This process aligns with the **Central Limit Theorem**, which states that the sample mean of a sufficiently large number of independent and identically distributed random variables will follow a normal distribution. This theorem is fundamental to quantitative finance, enabling us to apply **probabilisitic methodology** to value portfolios, determine fair stock option pricing, and perform risk assessment with confidence. We can then use **statistical methodology** to measure the confidence of our simulated measurements."
   ]
  },
  {
   "cell_type": "markdown",
   "id": "86acd54e-c11f-4523-9f82-271ec50e00d1",
   "metadata": {},
   "source": [
    "## More Monte-Carlo Simulations\n",
    "\n",
    "\n",
    "**Estimating $\\sqrt{2}$**\n",
    "\n",
    "Consider the line segment joining the point $(0,0)$ and $(1,1)$. This line segment is of length $\\sqrt{2}$ and the subline segment joining $(0,0)$ to $\\left(\\frac{\\sqrt{2}}{{2}}, \\frac{\\sqrt{2}}{{2}}\\right)$ has length $1$. Therefore the probability of randomly selectly a point on this line within the subline segment is $\\frac{1}{\\sqrt{2}} = \\frac{\\sqrt{2}}{2}$. Every point on the line segment is of the form $(x,x)$ with $0\\leq x\\leq 1$ and such a point lies within the subline segment of length $1$ if and only if $2x^2 \\leq 1$. We therefore can estimate $\\sqrt{2}$ by selecting $x$ from the unit interval $[0,1]$ with uniform distribution and measure the ratio of $x$-values with the property that $2x^2\\leq 1$. Multiplying the result by $2$ yields an estimate for $\\sqrt{2}$.  "
   ]
  },
  {
   "cell_type": "code",
   "execution_count": 13,
   "id": "4f1464e5-6411-44f4-bffc-5e9ae18a4dd4",
   "metadata": {
    "tags": []
   },
   "outputs": [
    {
     "name": "stdout",
     "output_type": "stream",
     "text": [
      "The squre root of 2 estimate using 100000 random draws from the unit interval is 1.41814.\n"
     ]
    }
   ],
   "source": [
    "N = 100000\n",
    "\n",
    "X = np.random.uniform(0,1, size = N) # select N random values in the unit interval\n",
    "\n",
    "Y = [x for x in X if 2*x**2<=1]# store random values that satisfy 2x^2<= 1\n",
    "\n",
    "sqrt_2_estimate = 2*len(Y)/len(X)#Estimate sqrt 2 from the simulation\n",
    "\n",
    "print(f\"The squre root of 2 estimate using {N} random draws from the unit interval is {sqrt_2_estimate}.\")"
   ]
  },
  {
   "cell_type": "code",
   "execution_count": 14,
   "id": "38803412",
   "metadata": {},
   "outputs": [
    {
     "data": {
      "text/plain": [
       "np.float64(1.4142135623730951)"
      ]
     },
     "execution_count": 14,
     "metadata": {},
     "output_type": "execute_result"
    }
   ],
   "source": [
    "#Compare simulated value with the actual value of \\sqrt{2}.\n",
    "np.sqrt(2)"
   ]
  },
  {
   "cell_type": "markdown",
   "id": "8557217a-132c-495c-bccf-63d6cbc2d4af",
   "metadata": {},
   "source": [
    "**Estimating Euler's constant**: Consider the uniform distribution on the unit interval $[0,1]$. \n",
    "\n",
    "What is the expected number of draws needed for the sum to exceed $1$?\n",
    "\n",
    "Answer: $e\\sim 2.71828$."
   ]
  },
  {
   "cell_type": "code",
   "execution_count": 16,
   "id": "98fa62b7-8a40-4cfb-a979-f30817e03da6",
   "metadata": {},
   "outputs": [
    {
     "name": "stdout",
     "output_type": "stream",
     "text": [
      "The average number of random draws from the unit interval needed for the sum to exceed 1 in 100000 trials is 2.71767.\n"
     ]
    }
   ],
   "source": [
    "#Define a function that performs a simulation of \n",
    "#drawing numbers at random from the uniform distribution until the sum exceeds 1\n",
    "\n",
    "\n",
    "#Return of the function is the number of draws needed.\n",
    "\n",
    "N = 100000 #Number of simulations\n",
    "\n",
    "def exceed_one():\n",
    "    s = 0 # s will be the sum of random draws from unit interval\n",
    "    n = 0 # n is the number of draws needed until the sum exceeds 1\n",
    "    while s <= 1:\n",
    "        x = np.random.uniform(0,1)\n",
    "        n += 1\n",
    "        s += x\n",
    "    return n\n",
    "\n",
    "X = [exceed_one() for _ in range(N)] # store number of draws needed over the N simulations\n",
    "\n",
    "\n",
    "print(f\"The average number of random draws from the unit interval needed for the sum to exceed 1 in {len(X)} trials is {np.mean(X)}.\")"
   ]
  },
  {
   "cell_type": "markdown",
   "id": "96a4f7c7-57ff-4d65-97cb-7040fb1daa8d",
   "metadata": {
    "tags": []
   },
   "source": [
    "## Some mathematics\n",
    "\n",
    "With the right trick, it is not difficult to prove that the true expected value is Euler's constant $e$.\n",
    "\n",
    "**Sketch of Proof**\n",
    "\n",
    "Given a real number $x\\geq 0$ let $f(x)$ be the expected number of draws from the unit interval so that the sum exceeds $x$. \n",
    "\n",
    "Given $x\\in \\mathbb{R}$, to compute the the probability $f(x)$ we consider the conditional relation that the expected number of random draws needed for the sum to exceed $x$ is $1$ more than average number of expected draws needed over the interval $(x-1,x]$. This is expressed as an equation\n",
    "\n",
    "$$\n",
    "f(x)= 1 + \\int_{x-1}^{x} f(z)\\,dz.\n",
    "$$\n",
    "\n",
    "If $z<0$ then $f(z)=0$. We therefore restrict our attention to $x$-values which lie in the unit interval $[0,1]$ so that\n",
    "\n",
    "$$\n",
    "f(x)= 1 + \\int_{x-1}^{x} f(z)\\,dz = 1 + \\int_{0}^{x} f(z)\\,dz.\n",
    "$$\n",
    "\n",
    "Taking derivatives of the furtherest-left and furtherest-right expressions in the equation, and applying the Fundamental Theorem of Calculus;\n",
    "\n",
    "$$\n",
    "f'(x) = f(x).\n",
    "$$\n",
    "\n",
    "We have an initial condition that $f(0)=1$. Therefore the solution function for $0\\leq x\\leq 1$ is $f(x)=e^x$. In particular, $f(1)=e$ is the expected number of draws needed from the unit interval with uniform distribution for the sum of the random variables to exceed $1$."
   ]
  },
  {
   "cell_type": "markdown",
   "id": "2c7c17bb-941d-450f-a8d8-7c58fb34d2cd",
   "metadata": {},
   "source": [
    "## Transitioning to methods in quantitative finance -- What to expect in these lectures\n",
    "\n",
    "Monte-Carlo simulations play an important role in advanced techniques used to make meaningful predictions on future profits/losses, the value of a contract, the effect of dynamically hedging a portfolio, risk assessment, and much more. Central topics of these notebooks are to measure volatility and value at risk of a portfolio, create stock portfolio's with a predetermined risk acceptance, and to price European options using Monte-Carlo simulation. \n",
    " \n",
    "**Important Remark:** European options, which we will evaluate by simulating stock prices as geometric Brownian motions, have a closed form solution via the Black-Scholes-Merton equation and therefore, like the examples above, simulation is actually not needed as the exact value of a European contract can be found. However, there is value in simulating European options prices that go beyond estimating the output of an explicit function. Understanding how to accurately and efficiently simulate European option prices has the following benefits:\n",
    "\n",
    "1) You build methodology that can be used to simulate more complex financial instruments (such as American, Asian, and Barrier options) which do not have a closed form solution as well as portfolio construction.\n",
    "\n",
    "<br>\n",
    "\n",
    "2) Modern simulation techniques used in more sophisticated models (such as the Heston model and its extensions) are built upon the methods in these notebooks.\n",
    "\n",
    "<br>\n",
    "\n",
    "3) Learning how to improve simulation accuracy, without the cost of increasing the sample size, through the use of **control variates** is deeply intertwined with the process of **dynamically hedging** a portfolio's value against risk of movement in the underlying assets, and for those interested, the mathematical proof techniques used in **theoretical financial mathematics**. \n",
    "\n",
    "<br>\n",
    "\n",
    "4) Simulating leverage strategies can be utilized in investment strategies to create a portfolio with a predetermined risk profile and therefore to positively benefit a portfolio's **Sharpe Ratio**."
   ]
  }
 ],
 "metadata": {
  "kernelspec": {
   "display_name": "Python 3 (ipykernel)",
   "language": "python",
   "name": "python3"
  },
  "language_info": {
   "codemirror_mode": {
    "name": "ipython",
    "version": 3
   },
   "file_extension": ".py",
   "mimetype": "text/x-python",
   "name": "python",
   "nbconvert_exporter": "python",
   "pygments_lexer": "ipython3",
   "version": "3.9.13"
  }
 },
 "nbformat": 4,
 "nbformat_minor": 5
}
