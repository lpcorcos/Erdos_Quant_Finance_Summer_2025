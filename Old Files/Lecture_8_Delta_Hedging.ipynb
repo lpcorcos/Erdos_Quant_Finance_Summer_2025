{
 "cells": [
  {
   "cell_type": "markdown",
   "id": "5d6406f5-5012-4cc8-9211-bc87d28954e5",
   "metadata": {},
   "source": [
    "# Lecture 8 Delta Hedging\n",
    "\n",
    "**Introduction to Quantitative Methods in Finance**\n",
    "\n",
    "**The Erdös Institute**\n",
    "\n",
    "### Purpose of the Notebook\n",
    "\n",
    "Dynamic delta hedging has a tendency to generate profit distributions that exhibit a distribution that resembles a normal distribution. This unique property has profound implications for understanding the behavior of profits in response to market fluctuations.\n",
    "\n",
    "**Delta Hedging**\n",
    "\n",
    "Delta hedging is a risk management strategy used in financial markets, particularly in options trading, to reduce or eliminate the risk associated with changes in the price of the underlying asset. The strategy involves adjusting the portfolio of options and their underlying assets in a way that offsets the changes in value due to small price movements in the underlying asset.\n",
    "\n",
    "The \"delta\" in delta hedging refers to the sensitivity of an option's price to changes in the price of the underlying asset. Delta is a measure of how much the option's value will change for a small change in the price of the underlying asset. By continuously adjusting the portfolio to maintain a neutral overall delta, traders aim to mitigate the impact of value fluctuations on their overall position relative to the underlying.\n",
    "\n",
    "In practice, delta hedging involves the following steps:\n",
    "\n",
    "1. **Initial Position**: A trader starts with a position that includes both options (calls or puts) and their corresponding underlying assets.\n",
    "\n",
    "2. **Calculate Delta**: The trader calculates the delta of each option in the portfolio. Delta can be positive (for call options) or negative (for put options) and ranges from -1 to 1.\n",
    "\n",
    "3. **Adjustments**: As the price of the underlying asset changes, the trader makes adjustments to the portfolio by buying or selling additional options or the underlying asset to maintain a neutral overall delta. This ensures that the changes in the option's value offset changes in the underlying asset's value.\n",
    "\n",
    "4. **Rebalancing**: Delta hedging requires periodic rebalancing to account for changes in the delta due to price movements. The frequency of rebalancing depends on the trading strategy and the desired level of risk management.\n",
    "\n",
    "Delta hedging allows traders to lock in profits or minimize losses that arise from small price fluctuations in the underlying asset. However, it's important to note that delta hedging does not eliminate all risks, particularly in the presence of larger price movements or changes in implied volatility.\n",
    "\n",
    "Overall, delta hedging is a practical approach for managing risk and ensuring a more stable financial position in options trading by adjusting the portfolio to counteract the impact of market price changes.\n",
    "\n",
    "**A remark about expected profits**\n",
    "We are going to study the distributions of profits of a buy and hold strategy, a statically hedged strategy, and a dynamically hedged strategy. We will price all options at Black-Scholes price of a European option. Consequently, all of our strategies will have an expected profit of $0$. We point this out as trading strategies, no matter how much they mitigate risk, are profitable when purchased or sold assets/contracts are underpriced are overpriced accordingly."
   ]
  },
  {
   "cell_type": "code",
   "execution_count": 1,
   "id": "5c3898ba-2b9d-4628-be20-cd6b3d0e33f1",
   "metadata": {
    "tags": []
   },
   "outputs": [],
   "source": [
    "%run Preamble_Hedging.py"
   ]
  },
  {
   "cell_type": "markdown",
   "id": "e8d7b38d-3b82-46ca-bd88-ab04d3e3e636",
   "metadata": {},
   "source": [
    "**Profit distributions of buy and hold**\n",
    "Let's consider a Monte-Carlo simulation of a stock movement which is a Geometric Brownian motion. We will then plot the return distributions of purchasing $50$ of the underlying asset."
   ]
  },
  {
   "cell_type": "code",
   "execution_count": 2,
   "id": "c9d23643",
   "metadata": {},
   "outputs": [
    {
     "name": "stdout",
     "output_type": "stream",
     "text": [
      "The expected return of buy and hold assuming Geometric Brownian Motion with drift zero: -0.0%\n"
     ]
    }
   ],
   "source": [
    "S = 100 # stock price\n",
    "DTE = 22 # Trading days to expiration\n",
    "T = DTE/252 # Time to expiration in years\n",
    "r = 0 # Risk-free interest rate\n",
    "q = 0 # Dividend yield\n",
    "steps = 22 #daily trading steps\n",
    "sigma = .3 # Annualized volatility\n",
    "N = 100000 # Number of simulated brownian motion paths\n",
    "\n",
    "A = geo_paths(S,T,sigma,steps,N,r,q)\n",
    "\n",
    "print(f'The expected return of buy and hold assuming Geometric Brownian Motion with drift zero: {round(np.mean((A[-1]-S)/S),0)}%')"
   ]
  },
  {
   "cell_type": "markdown",
   "id": "66801b68-3ae8-4817-8a54-d29c4ca5b535",
   "metadata": {
    "tags": []
   },
   "source": [
    "**Profit Distribution of Selling a Call**\n",
    "\n",
    "Let's look at the profit distribution of selling $100$ calls on the underlying when priced at the Black-Scholes European option price with strike price of $105$ and an expiration of $22$ trading days."
   ]
  },
  {
   "cell_type": "code",
   "execution_count": 3,
   "id": "288a94ca",
   "metadata": {
    "scrolled": true
   },
   "outputs": [
    {
     "name": "stdout",
     "output_type": "stream",
     "text": [
      "Black Scholes Call value: 1.6519641769293385\n",
      "---------\n"
     ]
    }
   ],
   "source": [
    "K=105\n",
    "MC_black_scholes = MC_accurate(S, T, sigma, steps, K, N, r)\n",
    "\n",
    "print(f\"Black Scholes Call value: {MC_black_scholes['MC_call']}\")\n",
    "print('---------')"
   ]
  },
  {
   "cell_type": "code",
   "execution_count": 6,
   "id": "40ba9abd-6882-47f8-85be-333fafc4fe01",
   "metadata": {
    "tags": []
   },
   "outputs": [
    {
     "data": {
      "image/png": "[encoded data removed]",
      "text/plain": [
       "<Figure size 640x480 with 1 Axes>"
      ]
     },
     "metadata": {},
     "output_type": "display_data"
    },
    {
     "name": "stdout",
     "output_type": "stream",
     "text": [
      "The expected profit of selling 100 calls at black scholes price $-0.48\n",
      "-----------\n",
      "Max profit of selling 100 calls $165.2\n",
      "---------\n",
      "Max loss of selling 100 calls $-3933.94\n"
     ]
    }
   ],
   "source": [
    "#option price\n",
    "option_price = MC_black_scholes['MC_call']\n",
    "\n",
    "\n",
    "# Store call option values\n",
    "option_values = np.maximum((A[-1] - K), 0)\n",
    "\n",
    "# Calculate the payoffs for selling calls at black scholes price\n",
    "returns = 100*(-option_values + option_price)\n",
    "\n",
    "# Plot the profit distribution of buying puts\n",
    "plt.hist(100*returns, density=True, bins=20, color='orange')\n",
    "plt.title('Profit distribution of selling calls', size=20)\n",
    "plt.show()\n",
    "\n",
    "\n",
    "print(f'The expected profit of selling 100 calls at black scholes price ${round(np.mean(returns),2)}')\n",
    "print('-----------')\n",
    "print(f'Max profit of selling 100 calls ${round(np.max(returns),2)}')\n",
    "print('---------')\n",
    "print(f'Max loss of selling 100 calls ${round(np.min(returns),2)}')"
   ]
  },
  {
   "cell_type": "markdown",
   "id": "220da996",
   "metadata": {},
   "source": [
    "## Covered call\n",
    "\n",
    "A common strategy when selling call options, that creates a more balanced profit to loss ratio, is to do a covered call. This is when a trader purchases the same number of the underlying stock as number of contracts sold."
   ]
  },
  {
   "cell_type": "code",
   "execution_count": 7,
   "id": "0877fbea",
   "metadata": {},
   "outputs": [
    {
     "data": {
      "image/png": "[encoded data removed]",
      "text/plain": [
       "<Figure size 640x480 with 1 Axes>"
      ]
     },
     "metadata": {},
     "output_type": "display_data"
    },
    {
     "name": "stdout",
     "output_type": "stream",
     "text": [
      "The expected profit of covered call $-1\n",
      "-----------\n",
      "Max profit of 100 covered calls 665.2\n",
      "---------\n",
      "Max loss of 100 covered calls -2783.54\n"
     ]
    }
   ],
   "source": [
    "# Find value of portfolios with simulated stock movements\n",
    "end_position_values_covered_call = 100 * A[-1] + 100*(-option_values + option_price)\n",
    "\n",
    "# Plot the profit distribution of buying puts\n",
    "plt.hist(end_position_values_covered_call - 100*S, density=True, bins=20, color='orange')\n",
    "plt.title('Profit distribution of covered call', size=20)\n",
    "plt.show()\n",
    "\n",
    "\n",
    "print(f'The expected profit of covered call ${round(np.mean(end_position_values_covered_call - 100*S))}')\n",
    "print('-----------')\n",
    "print(f'Max profit of 100 covered calls {round(np.max(end_position_values_covered_call - 100*S),2)}')\n",
    "print('---------')\n",
    "print(f'Max loss of 100 covered calls {round(np.min(end_position_values_covered_call- 100*S),2)}')"
   ]
  },
  {
   "cell_type": "markdown",
   "id": "06cbb67e-236d-4397-b7d4-c2ce22416cf9",
   "metadata": {},
   "source": [
    "## Static Delta Hedging\n",
    "\n",
    "Let's now examine the profit distribution of a protective call strategy that only purchases enough of the underlying stock to create a **delta neutral** position at the onset of the trade. \n",
    "\n",
    "The rate of change of the value of a stock, with respect to the change of the price of the stock, is $1$ by definition. \n",
    "\n",
    "The rate of change of the value of a call, with respect to the change of the price of the stock, is the \"delta\" of the call option contract.\n",
    "\n",
    "To delta hedge a portfolio of selling 100 call contracts, we find the rate of change of the call contract with respect to price fluctuations of the underlying. (This can be done with black scholes equations or simulation, we use simulation.)  "
   ]
  },
  {
   "cell_type": "code",
   "execution_count": 8,
   "id": "38c92c26",
   "metadata": {
    "scrolled": true
   },
   "outputs": [
    {
     "name": "stdout",
     "output_type": "stream",
     "text": [
      "Delta of sold calls: 30.466431113346353\n",
      "----------\n",
      "The trader will purchase 31.0 shares of the underlying stock\n"
     ]
    }
   ],
   "source": [
    "delta_sold_calls = 100*MC_delta(S, T, sigma, N, K)['delta_call']\n",
    "num_stocks_buy = np.ceil(delta_sold_calls)\n",
    "\n",
    "print(f'Delta of sold calls: {delta_sold_calls}')\n",
    "print('----------')\n",
    "print(f'The trader will purchase {num_stocks_buy} shares of the underlying stock')"
   ]
  },
  {
   "cell_type": "code",
   "execution_count": 10,
   "id": "cf9df7b6",
   "metadata": {},
   "outputs": [
    {
     "data": {
      "image/png": "[encoded data removed]",
      "text/plain": [
       "<Figure size 640x480 with 1 Axes>"
      ]
     },
     "metadata": {},
     "output_type": "display_data"
    },
    {
     "name": "stdout",
     "output_type": "stream",
     "text": [
      "The expected profit of selling 100 calls at black scholes price with delta neutral position $-1\n",
      "-----------\n",
      "Max profit of selling 100 calls with static hedge 320.19\n",
      "---------\n",
      "Max loss of selling 100 calls with static hedge -2508.21\n"
     ]
    }
   ],
   "source": [
    "# Find value of portfolios with simulated stock movements\n",
    "end_position_values = num_stocks_buy * A[-1] + 100*(-option_values + option_price)\n",
    "\n",
    "# Plot the profit distribution of buying puts\n",
    "plt.hist(end_position_values- num_stocks_buy*S, density=True, bins=20, color='orange')\n",
    "plt.title('Profit distribution of selling calls', size=20)\n",
    "plt.show()\n",
    "\n",
    "\n",
    "print(f'The expected profit of selling 100 calls at black scholes price with delta neutral position ${round(np.mean(end_position_values - num_stocks_buy*S))}')\n",
    "print('-----------')\n",
    "print(f'Max profit of selling 100 calls with static hedge {round(np.max(end_position_values- num_stocks_buy*S),2)}')\n",
    "print('---------')\n",
    "print(f'Max loss of selling 100 calls with static hedge {round(np.min(end_position_values- num_stocks_buy*S),2)}')"
   ]
  },
  {
   "cell_type": "markdown",
   "id": "91b2c405",
   "metadata": {},
   "source": [
    "## Dynamic Delta Hedging\n",
    "\n",
    "Dynamic delta hedging is the process of routinely rebalancing a portfolio to be delta neutral.\n",
    "\n",
    "For example suppose a trader creates a delta neutral portfolio to hedge against infinite loss potential of selling call options. \n",
    "- If the price of the underlying stock moves up the next day/week/month, the portfolio will have an decrease in delta, and so the trader will purchase more of the underlying stock to rebalance the portfolio's delta. \n",
    "\n",
    "- If the price of the underlying stock moves down the next day/week/month, the portfolio will have an increase in delta, and so the trader will sell part of the underlying stock being held to rebalance the portfolio's delta."
   ]
  },
  {
   "cell_type": "code",
   "execution_count": 35,
   "id": "fca07427",
   "metadata": {},
   "outputs": [
    {
     "data": {
      "image/png": "[encoded data removed]",
      "text/plain": [
       "<Figure size 640x480 with 1 Axes>"
      ]
     },
     "metadata": {},
     "output_type": "display_data"
    },
    {
     "name": "stdout",
     "output_type": "stream",
     "text": [
      "The expected profit of selling 100 calls at black scholes price with dynamic delta hedging: $41\n",
      "-----------\n",
      "Max profit of selling 100 calls with static hedge 318.61\n",
      "---------\n",
      "Max loss of selling 100 calls with static hedge -497.78\n"
     ]
    }
   ],
   "source": [
    "# Calculate Time to Expiration (TTE) for each step\n",
    "TTE = [(DTE - i) / 252 for i in range(DTE + 1)]\n",
    "\n",
    "portfolio_profits = []\n",
    "\n",
    "for i in range(N):\n",
    "    # Extract the stock path for the i-th simulation\n",
    "    stock_path = [A[j][i] for j in range(len(A))]\n",
    "    \n",
    "    # Calculate deltas for each step along the stock path\n",
    "    deltas_stock_path = [delta('c', stock_path[j], K, TTE[j], 0, sigma) for j in range(len(stock_path) - 1)] + [0]\n",
    "    \n",
    "    # Number of stocks in the portfolio at each step\n",
    "    stocks_in_portfolio = [np.ceil(100 * deltas_stock_path[j]) for j in range(len(deltas_stock_path))]\n",
    "    \n",
    "    # Capital spent or received from buying and selling stock through dynamic hedging\n",
    "    capital = [-stock_path[0] * stocks_in_portfolio[0]] + [\n",
    "        -stock_path[j] * (stocks_in_portfolio[j] - stocks_in_portfolio[j - 1]) \n",
    "        for j in range(1, len(stocks_in_portfolio))\n",
    "    ]\n",
    "    \n",
    "    # Profits from buying and selling stock\n",
    "    stock_profit = np.sum(capital)\n",
    "    \n",
    "    # Calculate option trade profit\n",
    "    option_trade_profit = 100 * (-max(stock_path[-1] - K, 0) + bs_multiplier*option_price)\n",
    "    \n",
    "    # Append the total profit for this simulation\n",
    "    portfolio_profits.append(option_trade_profit + stock_profit)\n",
    "\n",
    "\n",
    "\n",
    "# Plot the profit distribution of buying puts\n",
    "plt.hist(portfolio_profits, density=True, bins=100, color='orange')\n",
    "plt.title('Profit distribution of dynamic hedged call option sell', size=20)\n",
    "plt.show()\n",
    "\n",
    "\n",
    "print(f'The expected profit of selling 100 calls at black scholes price with dynamic delta hedging: ${round(np.mean(portfolio_profits))}')\n",
    "print('-----------')\n",
    "print(f'Max profit of selling 100 calls with static hedge {round(np.max(portfolio_profits),2)}')\n",
    "print('---------')\n",
    "print(f'Max loss of selling 100 calls with static hedge {round(np.min(portfolio_profits),2)}')"
   ]
  },
  {
   "cell_type": "markdown",
   "id": "39c87f20",
   "metadata": {},
   "source": [
    "## Takeaway\n",
    "\n",
    "Accurately modeling a stock's volatility allows for dynamic hedging of a portfolio through the simultaneous buying and selling of option contracts and stocks. This approach creates an expected profit distribution that minimizes the risk of extreme loss (and extreme gain), leading to long-term consistent profits."
   ]
  },
  {
   "cell_type": "code",
   "execution_count": null,
   "id": "5bb6c334",
   "metadata": {},
   "outputs": [],
   "source": []
  },
  {
   "cell_type": "code",
   "execution_count": null,
   "id": "5e591fc1",
   "metadata": {},
   "outputs": [],
   "source": []
  },
  {
   "cell_type": "markdown",
   "id": "5adb607e",
   "metadata": {},
   "source": [
    "## Experiment\n",
    "\n",
    "How do historical option contract prices compare to that of black scholes option pricing?"
   ]
  },
  {
   "cell_type": "code",
   "execution_count": 12,
   "id": "5c9b6cff",
   "metadata": {},
   "outputs": [],
   "source": [
    "import datetime as dt\n",
    "import yfinance as yf\n",
    "from polygon import RESTClient\n",
    "import pandas as pd\n",
    "import math\n",
    "\n",
    "%run api.py\n",
    "client = RESTClient(key)"
   ]
  },
  {
   "cell_type": "code",
   "execution_count": null,
   "id": "e4f2636c",
   "metadata": {},
   "outputs": [],
   "source": []
  },
  {
   "cell_type": "code",
   "execution_count": 13,
   "id": "4e6776b7",
   "metadata": {},
   "outputs": [
    {
     "name": "stdout",
     "output_type": "stream",
     "text": [
      "[*********************100%***********************]  1 of 1 completed\n"
     ]
    }
   ],
   "source": [
    "ticker = 'T'\n",
    "\n",
    "start_date = dt.datetime.now()-dt.timedelta(days=600)\n",
    "end_date = dt.datetime.now()-dt.timedelta(days=300)\n",
    "\n",
    "stock_data = yf.download(ticker, start = start_date, end = end_date)\n",
    "\n",
    "\n",
    "historical_stock_price = stock_data['Close'][-1]\n",
    "\n",
    "historical_date = stock_data.index[-1]\n",
    "\n",
    "formatted_date = historical_date.strftime('%Y-%m-%d')"
   ]
  },
  {
   "cell_type": "code",
   "execution_count": 14,
   "id": "2b188863",
   "metadata": {},
   "outputs": [
    {
     "data": {
      "text/plain": [
       "(14.449999809265137, '2023-10-06')"
      ]
     },
     "execution_count": 14,
     "metadata": {},
     "output_type": "execute_result"
    }
   ],
   "source": [
    "historical_stock_price, formatted_date"
   ]
  },
  {
   "cell_type": "code",
   "execution_count": 15,
   "id": "fd929ed8",
   "metadata": {},
   "outputs": [
    {
     "name": "stdout",
     "output_type": "stream",
     "text": [
      "The 30-day moving average volatility of T is 26.0%\n"
     ]
    }
   ],
   "source": [
    "stock_data['log returns'] = np.log(stock_data['Adj Close']/stock_data['Adj Close'].shift(1))\n",
    "\n",
    "# Calculate the 30-day rolling standard deviation of log returns and drop NaN values\n",
    "moving_average_30d = stock_data['log returns'].rolling(window=21).std().dropna()\n",
    "\n",
    "# Calculate the annualized volatility using the mean of the rolling standard deviations\n",
    "yearly_volatility = moving_average_30d.mean() * np.sqrt(252)\n",
    "\n",
    "# Print the result\n",
    "print(f'The 30-day moving average volatility of {ticker} is {round(np.mean(yearly_volatility * 100), 2)}%')\n"
   ]
  },
  {
   "cell_type": "code",
   "execution_count": 16,
   "id": "1c67dbcc",
   "metadata": {},
   "outputs": [],
   "source": [
    "contractNames = []\n",
    "for c in client.list_options_contracts(underlying_ticker = ticker, limit = 1000, as_of=formatted_date):\n",
    "    contractNames.append(c)"
   ]
  },
  {
   "cell_type": "code",
   "execution_count": 17,
   "id": "b21b4b60",
   "metadata": {},
   "outputs": [
    {
     "data": {
      "text/plain": [
       "678"
      ]
     },
     "execution_count": 17,
     "metadata": {},
     "output_type": "execute_result"
    }
   ],
   "source": [
    "len(contractNames)"
   ]
  },
  {
   "cell_type": "code",
   "execution_count": 18,
   "id": "15ec6a38",
   "metadata": {},
   "outputs": [],
   "source": [
    "puts = []\n",
    "calls = []\n",
    "for i in range(len(contractNames)):\n",
    "    data = contractNames[i]\n",
    "    if data.contract_type== 'put':\n",
    "        puts.append(data)\n",
    "    else:\n",
    "        calls.append(data)"
   ]
  },
  {
   "cell_type": "code",
   "execution_count": 20,
   "id": "a9775be6",
   "metadata": {},
   "outputs": [],
   "source": [
    "def time_to_expiration(start: str, end: str) -> int:\n",
    "    \"\"\"\n",
    "    Calculate the number of days between two dates.\n",
    "\n",
    "    Parameters:\n",
    "    start (str): The start date in 'YYYY-MM-DD' format.\n",
    "    end (str): The end date in 'YYYY-MM-DD' format.\n",
    "\n",
    "    Returns:\n",
    "    int: The number of days between the two dates.\n",
    "    \"\"\"\n",
    "    date_format = '%Y-%m-%d'\n",
    "    try:\n",
    "        # Convert the date strings to datetime objects\n",
    "        start_date = dt.datetime.strptime(start, date_format)\n",
    "        end_date = dt.datetime.strptime(end, date_format)\n",
    "        \n",
    "        # Calculate the difference in days\n",
    "        delta = end_date - start_date\n",
    "        return delta.days\n",
    "    except ValueError as e:\n",
    "        raise ValueError(f\"Invalid date format: {e}\")"
   ]
  },
  {
   "cell_type": "code",
   "execution_count": 21,
   "id": "52126b9e",
   "metadata": {},
   "outputs": [],
   "source": [
    "# Define the strike range and expiration date range\n",
    "calls_in_range = []\n",
    "strike_range = 5\n",
    "min_exp_days = 1\n",
    "max_exp_days = 90\n",
    "lower_exp_date = start_date + dt.timedelta(days=min_exp_days)\n",
    "higher_exp_date = start_date + dt.timedelta(days=max_exp_days)\n",
    "\n",
    "lower_exp_date_formatted = lower_exp_date.strftime('%Y-%m-%d')\n",
    "higher_exp_date_formatted = higher_exp_date.strftime('%Y-%m-%d')\n",
    "\n",
    "# Convert string dates to datetime objects\n",
    "start_date_dt = dt.datetime.strptime(lower_exp_date_formatted, '%Y-%m-%d')\n",
    "end_date_dt = dt.datetime.strptime(higher_exp_date_formatted, '%Y-%m-%d')\n",
    "\n",
    "for i in range(len(calls)):\n",
    "    data = calls[i]\n",
    "    expiration_date_str = data.expiration_date\n",
    "    \n",
    "    # Convert expiration_date to datetime object\n",
    "    expiration_date_dt = dt.datetime.strptime(expiration_date_str, '%Y-%m-%d')\n",
    "    \n",
    "    # Check if strike price and expiration date are within the desired range\n",
    "    if (0 <= -math.ceil(historical_stock_price) + data.strike_price <= strike_range) and (min_exp_days<=time_to_expiration(formatted_date, expiration_date_str)<=max_exp_days):\n",
    "        calls_in_range.append(data)"
   ]
  },
  {
   "cell_type": "code",
   "execution_count": 23,
   "id": "fbc4ca64",
   "metadata": {},
   "outputs": [
    {
     "data": {
      "text/plain": [
       "72"
      ]
     },
     "execution_count": 23,
     "metadata": {},
     "output_type": "execute_result"
    }
   ],
   "source": [
    "len(calls_in_range)"
   ]
  },
  {
   "cell_type": "code",
   "execution_count": 24,
   "id": "b171fe14",
   "metadata": {},
   "outputs": [],
   "source": [
    "call_market_price = {}\n",
    "\n",
    "for i in range(len(calls_in_range)):\n",
    "    ticker_name = calls_in_range[i].ticker\n",
    "    try:\n",
    "        # Make the API call\n",
    "        OptionData = client.get_aggs(\n",
    "            ticker=ticker_name,\n",
    "            multiplier=1,\n",
    "            timespan='day',\n",
    "            from_=formatted_date,\n",
    "            to=formatted_date\n",
    "        )\n",
    "        \n",
    "        # Check if OptionData is not empty\n",
    "        if OptionData:\n",
    "            # Access the close price\n",
    "            call_market_price[ticker_name] = OptionData[0].close\n",
    "        \n",
    "    except Exception as e:\n",
    "        # Handle exceptions, e.g., API call errors\n",
    "        print(f\"Error retrieving data for {ticker_name}: {e}\")\n",
    "        call_market_price[ticker_name] = None  "
   ]
  },
  {
   "cell_type": "code",
   "execution_count": 25,
   "id": "d3de2c84",
   "metadata": {},
   "outputs": [],
   "source": [
    "options_data = [\n",
    "    {\n",
    "        'ticker': data.ticker,\n",
    "        'contract_type': data.contract_type,\n",
    "        'expiration_date': data.expiration_date,\n",
    "        'strike_price': data.strike_price,\n",
    "        'underlying_ticker': data.underlying_ticker\n",
    "    }\n",
    "    for data in calls_in_range\n",
    "]\n",
    "\n",
    "# Create a DataFrame from the list of dictionaries\n",
    "df = pd.DataFrame(options_data)\n",
    "\n",
    "# Set the ticker as the index\n",
    "df.set_index('ticker', inplace=True)"
   ]
  },
  {
   "cell_type": "code",
   "execution_count": 26,
   "id": "a7d44eb8",
   "metadata": {},
   "outputs": [],
   "source": [
    "df['market_price'] = df.index.map(call_market_price)\n",
    "df_cleaned = df.dropna(subset=['market_price'])"
   ]
  },
  {
   "cell_type": "code",
   "execution_count": 30,
   "id": "8cfaef35",
   "metadata": {
    "scrolled": false
   },
   "outputs": [
    {
     "data": {
      "text/html": [
       "<div>\n",
       "<style scoped>\n",
       "    .dataframe tbody tr th:only-of-type {\n",
       "        vertical-align: middle;\n",
       "    }\n",
       "\n",
       "    .dataframe tbody tr th {\n",
       "        vertical-align: top;\n",
       "    }\n",
       "\n",
       "    .dataframe thead th {\n",
       "        text-align: right;\n",
       "    }\n",
       "</style>\n",
       "<table border=\"1\" class=\"dataframe\">\n",
       "  <thead>\n",
       "    <tr style=\"text-align: right;\">\n",
       "      <th></th>\n",
       "      <th>contract_type</th>\n",
       "      <th>expiration_date</th>\n",
       "      <th>strike_price</th>\n",
       "      <th>underlying_ticker</th>\n",
       "      <th>market_price</th>\n",
       "      <th>days_to_expiration</th>\n",
       "      <th>black_scholes_implied_vol</th>\n",
       "    </tr>\n",
       "    <tr>\n",
       "      <th>ticker</th>\n",
       "      <th></th>\n",
       "      <th></th>\n",
       "      <th></th>\n",
       "      <th></th>\n",
       "      <th></th>\n",
       "      <th></th>\n",
       "      <th></th>\n",
       "    </tr>\n",
       "  </thead>\n",
       "  <tbody>\n",
       "    <tr>\n",
       "      <th>O:T231013C00015000</th>\n",
       "      <td>call</td>\n",
       "      <td>2023-10-13</td>\n",
       "      <td>15.0</td>\n",
       "      <td>T</td>\n",
       "      <td>0.04</td>\n",
       "      <td>7.0</td>\n",
       "      <td>0.257677</td>\n",
       "    </tr>\n",
       "    <tr>\n",
       "      <th>O:T231013C00015500</th>\n",
       "      <td>call</td>\n",
       "      <td>2023-10-13</td>\n",
       "      <td>15.5</td>\n",
       "      <td>T</td>\n",
       "      <td>0.01</td>\n",
       "      <td>7.0</td>\n",
       "      <td>0.291100</td>\n",
       "    </tr>\n",
       "    <tr>\n",
       "      <th>O:T231013C00016000</th>\n",
       "      <td>call</td>\n",
       "      <td>2023-10-13</td>\n",
       "      <td>16.0</td>\n",
       "      <td>T</td>\n",
       "      <td>0.01</td>\n",
       "      <td>7.0</td>\n",
       "      <td>0.394184</td>\n",
       "    </tr>\n",
       "    <tr>\n",
       "      <th>O:T231013C00016500</th>\n",
       "      <td>call</td>\n",
       "      <td>2023-10-13</td>\n",
       "      <td>16.5</td>\n",
       "      <td>T</td>\n",
       "      <td>0.01</td>\n",
       "      <td>7.0</td>\n",
       "      <td>0.489825</td>\n",
       "    </tr>\n",
       "    <tr>\n",
       "      <th>O:T231020C00015000</th>\n",
       "      <td>call</td>\n",
       "      <td>2023-10-20</td>\n",
       "      <td>15.0</td>\n",
       "      <td>T</td>\n",
       "      <td>0.20</td>\n",
       "      <td>14.0</td>\n",
       "      <td>0.364139</td>\n",
       "    </tr>\n",
       "    <tr>\n",
       "      <th>O:T231020C00015500</th>\n",
       "      <td>call</td>\n",
       "      <td>2023-10-20</td>\n",
       "      <td>15.5</td>\n",
       "      <td>T</td>\n",
       "      <td>0.08</td>\n",
       "      <td>14.0</td>\n",
       "      <td>0.347522</td>\n",
       "    </tr>\n",
       "    <tr>\n",
       "      <th>O:T231020C00016000</th>\n",
       "      <td>call</td>\n",
       "      <td>2023-10-20</td>\n",
       "      <td>16.0</td>\n",
       "      <td>T</td>\n",
       "      <td>0.04</td>\n",
       "      <td>14.0</td>\n",
       "      <td>0.370363</td>\n",
       "    </tr>\n",
       "    <tr>\n",
       "      <th>O:T231020C00016500</th>\n",
       "      <td>call</td>\n",
       "      <td>2023-10-20</td>\n",
       "      <td>16.5</td>\n",
       "      <td>T</td>\n",
       "      <td>0.02</td>\n",
       "      <td>14.0</td>\n",
       "      <td>0.391151</td>\n",
       "    </tr>\n",
       "    <tr>\n",
       "      <th>O:T231020C00017000</th>\n",
       "      <td>call</td>\n",
       "      <td>2023-10-20</td>\n",
       "      <td>17.0</td>\n",
       "      <td>T</td>\n",
       "      <td>0.01</td>\n",
       "      <td>14.0</td>\n",
       "      <td>0.409921</td>\n",
       "    </tr>\n",
       "    <tr>\n",
       "      <th>O:T231020C00018000</th>\n",
       "      <td>call</td>\n",
       "      <td>2023-10-20</td>\n",
       "      <td>18.0</td>\n",
       "      <td>T</td>\n",
       "      <td>0.01</td>\n",
       "      <td>14.0</td>\n",
       "      <td>0.527457</td>\n",
       "    </tr>\n",
       "    <tr>\n",
       "      <th>O:T231020C00019000</th>\n",
       "      <td>call</td>\n",
       "      <td>2023-10-20</td>\n",
       "      <td>19.0</td>\n",
       "      <td>T</td>\n",
       "      <td>0.01</td>\n",
       "      <td>14.0</td>\n",
       "      <td>0.634815</td>\n",
       "    </tr>\n",
       "    <tr>\n",
       "      <th>O:T231027C00015000</th>\n",
       "      <td>call</td>\n",
       "      <td>2023-10-27</td>\n",
       "      <td>15.0</td>\n",
       "      <td>T</td>\n",
       "      <td>0.26</td>\n",
       "      <td>21.0</td>\n",
       "      <td>0.345281</td>\n",
       "    </tr>\n",
       "    <tr>\n",
       "      <th>O:T231027C00015500</th>\n",
       "      <td>call</td>\n",
       "      <td>2023-10-27</td>\n",
       "      <td>15.5</td>\n",
       "      <td>T</td>\n",
       "      <td>0.11</td>\n",
       "      <td>21.0</td>\n",
       "      <td>0.317433</td>\n",
       "    </tr>\n",
       "    <tr>\n",
       "      <th>O:T231027C00016000</th>\n",
       "      <td>call</td>\n",
       "      <td>2023-10-27</td>\n",
       "      <td>16.0</td>\n",
       "      <td>T</td>\n",
       "      <td>0.05</td>\n",
       "      <td>21.0</td>\n",
       "      <td>0.319872</td>\n",
       "    </tr>\n",
       "    <tr>\n",
       "      <th>O:T231027C00016500</th>\n",
       "      <td>call</td>\n",
       "      <td>2023-10-27</td>\n",
       "      <td>16.5</td>\n",
       "      <td>T</td>\n",
       "      <td>0.03</td>\n",
       "      <td>21.0</td>\n",
       "      <td>0.346318</td>\n",
       "    </tr>\n",
       "    <tr>\n",
       "      <th>O:T231027C00017000</th>\n",
       "      <td>call</td>\n",
       "      <td>2023-10-27</td>\n",
       "      <td>17.0</td>\n",
       "      <td>T</td>\n",
       "      <td>0.02</td>\n",
       "      <td>21.0</td>\n",
       "      <td>0.375788</td>\n",
       "    </tr>\n",
       "    <tr>\n",
       "      <th>O:T231103C00015000</th>\n",
       "      <td>call</td>\n",
       "      <td>2023-11-03</td>\n",
       "      <td>15.0</td>\n",
       "      <td>T</td>\n",
       "      <td>0.28</td>\n",
       "      <td>28.0</td>\n",
       "      <td>0.312585</td>\n",
       "    </tr>\n",
       "    <tr>\n",
       "      <th>O:T231103C00015500</th>\n",
       "      <td>call</td>\n",
       "      <td>2023-11-03</td>\n",
       "      <td>15.5</td>\n",
       "      <td>T</td>\n",
       "      <td>0.13</td>\n",
       "      <td>28.0</td>\n",
       "      <td>0.292929</td>\n",
       "    </tr>\n",
       "    <tr>\n",
       "      <th>O:T231103C00016000</th>\n",
       "      <td>call</td>\n",
       "      <td>2023-11-03</td>\n",
       "      <td>16.0</td>\n",
       "      <td>T</td>\n",
       "      <td>0.07</td>\n",
       "      <td>28.0</td>\n",
       "      <td>0.303629</td>\n",
       "    </tr>\n",
       "    <tr>\n",
       "      <th>O:T231110C00015000</th>\n",
       "      <td>call</td>\n",
       "      <td>2023-11-10</td>\n",
       "      <td>15.0</td>\n",
       "      <td>T</td>\n",
       "      <td>0.31</td>\n",
       "      <td>35.0</td>\n",
       "      <td>0.297604</td>\n",
       "    </tr>\n",
       "    <tr>\n",
       "      <th>O:T231110C00015500</th>\n",
       "      <td>call</td>\n",
       "      <td>2023-11-10</td>\n",
       "      <td>15.5</td>\n",
       "      <td>T</td>\n",
       "      <td>0.14</td>\n",
       "      <td>35.0</td>\n",
       "      <td>0.269785</td>\n",
       "    </tr>\n",
       "    <tr>\n",
       "      <th>O:T231117C00015000</th>\n",
       "      <td>call</td>\n",
       "      <td>2023-11-17</td>\n",
       "      <td>15.0</td>\n",
       "      <td>T</td>\n",
       "      <td>0.35</td>\n",
       "      <td>42.0</td>\n",
       "      <td>0.293363</td>\n",
       "    </tr>\n",
       "    <tr>\n",
       "      <th>O:T231117C00016000</th>\n",
       "      <td>call</td>\n",
       "      <td>2023-11-17</td>\n",
       "      <td>16.0</td>\n",
       "      <td>T</td>\n",
       "      <td>0.12</td>\n",
       "      <td>42.0</td>\n",
       "      <td>0.293089</td>\n",
       "    </tr>\n",
       "    <tr>\n",
       "      <th>O:T231117C00017000</th>\n",
       "      <td>call</td>\n",
       "      <td>2023-11-17</td>\n",
       "      <td>17.0</td>\n",
       "      <td>T</td>\n",
       "      <td>0.05</td>\n",
       "      <td>42.0</td>\n",
       "      <td>0.319815</td>\n",
       "    </tr>\n",
       "    <tr>\n",
       "      <th>O:T231117C00018000</th>\n",
       "      <td>call</td>\n",
       "      <td>2023-11-17</td>\n",
       "      <td>18.0</td>\n",
       "      <td>T</td>\n",
       "      <td>0.02</td>\n",
       "      <td>42.0</td>\n",
       "      <td>0.339193</td>\n",
       "    </tr>\n",
       "    <tr>\n",
       "      <th>O:T231117C00020000</th>\n",
       "      <td>call</td>\n",
       "      <td>2023-11-17</td>\n",
       "      <td>20.0</td>\n",
       "      <td>T</td>\n",
       "      <td>0.01</td>\n",
       "      <td>42.0</td>\n",
       "      <td>0.423772</td>\n",
       "    </tr>\n",
       "    <tr>\n",
       "      <th>O:T231124C00015000</th>\n",
       "      <td>call</td>\n",
       "      <td>2023-11-24</td>\n",
       "      <td>15.0</td>\n",
       "      <td>T</td>\n",
       "      <td>0.39</td>\n",
       "      <td>49.0</td>\n",
       "      <td>0.291476</td>\n",
       "    </tr>\n",
       "    <tr>\n",
       "      <th>O:T231124C00015500</th>\n",
       "      <td>call</td>\n",
       "      <td>2023-11-24</td>\n",
       "      <td>15.5</td>\n",
       "      <td>T</td>\n",
       "      <td>0.21</td>\n",
       "      <td>49.0</td>\n",
       "      <td>0.271080</td>\n",
       "    </tr>\n",
       "    <tr>\n",
       "      <th>O:T231124C00016000</th>\n",
       "      <td>call</td>\n",
       "      <td>2023-11-24</td>\n",
       "      <td>16.0</td>\n",
       "      <td>T</td>\n",
       "      <td>0.11</td>\n",
       "      <td>49.0</td>\n",
       "      <td>0.263613</td>\n",
       "    </tr>\n",
       "    <tr>\n",
       "      <th>O:T231124C00016500</th>\n",
       "      <td>call</td>\n",
       "      <td>2023-11-24</td>\n",
       "      <td>16.5</td>\n",
       "      <td>T</td>\n",
       "      <td>0.06</td>\n",
       "      <td>49.0</td>\n",
       "      <td>0.265979</td>\n",
       "    </tr>\n",
       "  </tbody>\n",
       "</table>\n",
       "</div>"
      ],
      "text/plain": [
       "                   contract_type expiration_date  strike_price   \n",
       "ticker                                                           \n",
       "O:T231013C00015000          call      2023-10-13          15.0  \\\n",
       "O:T231013C00015500          call      2023-10-13          15.5   \n",
       "O:T231013C00016000          call      2023-10-13          16.0   \n",
       "O:T231013C00016500          call      2023-10-13          16.5   \n",
       "O:T231020C00015000          call      2023-10-20          15.0   \n",
       "O:T231020C00015500          call      2023-10-20          15.5   \n",
       "O:T231020C00016000          call      2023-10-20          16.0   \n",
       "O:T231020C00016500          call      2023-10-20          16.5   \n",
       "O:T231020C00017000          call      2023-10-20          17.0   \n",
       "O:T231020C00018000          call      2023-10-20          18.0   \n",
       "O:T231020C00019000          call      2023-10-20          19.0   \n",
       "O:T231027C00015000          call      2023-10-27          15.0   \n",
       "O:T231027C00015500          call      2023-10-27          15.5   \n",
       "O:T231027C00016000          call      2023-10-27          16.0   \n",
       "O:T231027C00016500          call      2023-10-27          16.5   \n",
       "O:T231027C00017000          call      2023-10-27          17.0   \n",
       "O:T231103C00015000          call      2023-11-03          15.0   \n",
       "O:T231103C00015500          call      2023-11-03          15.5   \n",
       "O:T231103C00016000          call      2023-11-03          16.0   \n",
       "O:T231110C00015000          call      2023-11-10          15.0   \n",
       "O:T231110C00015500          call      2023-11-10          15.5   \n",
       "O:T231117C00015000          call      2023-11-17          15.0   \n",
       "O:T231117C00016000          call      2023-11-17          16.0   \n",
       "O:T231117C00017000          call      2023-11-17          17.0   \n",
       "O:T231117C00018000          call      2023-11-17          18.0   \n",
       "O:T231117C00020000          call      2023-11-17          20.0   \n",
       "O:T231124C00015000          call      2023-11-24          15.0   \n",
       "O:T231124C00015500          call      2023-11-24          15.5   \n",
       "O:T231124C00016000          call      2023-11-24          16.0   \n",
       "O:T231124C00016500          call      2023-11-24          16.5   \n",
       "\n",
       "                   underlying_ticker  market_price  days_to_expiration   \n",
       "ticker                                                                   \n",
       "O:T231013C00015000                 T          0.04                 7.0  \\\n",
       "O:T231013C00015500                 T          0.01                 7.0   \n",
       "O:T231013C00016000                 T          0.01                 7.0   \n",
       "O:T231013C00016500                 T          0.01                 7.0   \n",
       "O:T231020C00015000                 T          0.20                14.0   \n",
       "O:T231020C00015500                 T          0.08                14.0   \n",
       "O:T231020C00016000                 T          0.04                14.0   \n",
       "O:T231020C00016500                 T          0.02                14.0   \n",
       "O:T231020C00017000                 T          0.01                14.0   \n",
       "O:T231020C00018000                 T          0.01                14.0   \n",
       "O:T231020C00019000                 T          0.01                14.0   \n",
       "O:T231027C00015000                 T          0.26                21.0   \n",
       "O:T231027C00015500                 T          0.11                21.0   \n",
       "O:T231027C00016000                 T          0.05                21.0   \n",
       "O:T231027C00016500                 T          0.03                21.0   \n",
       "O:T231027C00017000                 T          0.02                21.0   \n",
       "O:T231103C00015000                 T          0.28                28.0   \n",
       "O:T231103C00015500                 T          0.13                28.0   \n",
       "O:T231103C00016000                 T          0.07                28.0   \n",
       "O:T231110C00015000                 T          0.31                35.0   \n",
       "O:T231110C00015500                 T          0.14                35.0   \n",
       "O:T231117C00015000                 T          0.35                42.0   \n",
       "O:T231117C00016000                 T          0.12                42.0   \n",
       "O:T231117C00017000                 T          0.05                42.0   \n",
       "O:T231117C00018000                 T          0.02                42.0   \n",
       "O:T231117C00020000                 T          0.01                42.0   \n",
       "O:T231124C00015000                 T          0.39                49.0   \n",
       "O:T231124C00015500                 T          0.21                49.0   \n",
       "O:T231124C00016000                 T          0.11                49.0   \n",
       "O:T231124C00016500                 T          0.06                49.0   \n",
       "\n",
       "                    black_scholes_implied_vol  \n",
       "ticker                                         \n",
       "O:T231013C00015000                   0.257677  \n",
       "O:T231013C00015500                   0.291100  \n",
       "O:T231013C00016000                   0.394184  \n",
       "O:T231013C00016500                   0.489825  \n",
       "O:T231020C00015000                   0.364139  \n",
       "O:T231020C00015500                   0.347522  \n",
       "O:T231020C00016000                   0.370363  \n",
       "O:T231020C00016500                   0.391151  \n",
       "O:T231020C00017000                   0.409921  \n",
       "O:T231020C00018000                   0.527457  \n",
       "O:T231020C00019000                   0.634815  \n",
       "O:T231027C00015000                   0.345281  \n",
       "O:T231027C00015500                   0.317433  \n",
       "O:T231027C00016000                   0.319872  \n",
       "O:T231027C00016500                   0.346318  \n",
       "O:T231027C00017000                   0.375788  \n",
       "O:T231103C00015000                   0.312585  \n",
       "O:T231103C00015500                   0.292929  \n",
       "O:T231103C00016000                   0.303629  \n",
       "O:T231110C00015000                   0.297604  \n",
       "O:T231110C00015500                   0.269785  \n",
       "O:T231117C00015000                   0.293363  \n",
       "O:T231117C00016000                   0.293089  \n",
       "O:T231117C00017000                   0.319815  \n",
       "O:T231117C00018000                   0.339193  \n",
       "O:T231117C00020000                   0.423772  \n",
       "O:T231124C00015000                   0.291476  \n",
       "O:T231124C00015500                   0.271080  \n",
       "O:T231124C00016000                   0.263613  \n",
       "O:T231124C00016500                   0.265979  "
      ]
     },
     "execution_count": 30,
     "metadata": {},
     "output_type": "execute_result"
    }
   ],
   "source": [
    "df_cleaned"
   ]
  },
  {
   "cell_type": "code",
   "execution_count": 28,
   "id": "4edfc731",
   "metadata": {},
   "outputs": [
    {
     "name": "stderr",
     "output_type": "stream",
     "text": [
      "/var/folders/dq/jny5hj1d21j6j65pcj3d9qx80000gq/T/ipykernel_4160/450382651.py:1: SettingWithCopyWarning: \n",
      "A value is trying to be set on a copy of a slice from a DataFrame.\n",
      "Try using .loc[row_indexer,col_indexer] = value instead\n",
      "\n",
      "See the caveats in the documentation: https://pandas.pydata.org/pandas-docs/stable/user_guide/indexing.html#returning-a-view-versus-a-copy\n",
      "  df_cleaned['days_to_expiration'] = np.nan\n"
     ]
    }
   ],
   "source": [
    "df_cleaned['days_to_expiration'] = np.nan\n",
    "\n",
    "for index in df_cleaned.index:\n",
    "    expiration_date = df_cleaned['expiration_date'][index]\n",
    "    days_to_expiration = time_to_expiration(formatted_date, expiration_date)\n",
    "    df_cleaned.loc[index, 'days_to_expiration'] = days_to_expiration"
   ]
  },
  {
   "cell_type": "code",
   "execution_count": 29,
   "id": "bed83642",
   "metadata": {},
   "outputs": [
    {
     "name": "stderr",
     "output_type": "stream",
     "text": [
      "/var/folders/dq/jny5hj1d21j6j65pcj3d9qx80000gq/T/ipykernel_4160/2813770256.py:1: SettingWithCopyWarning: \n",
      "A value is trying to be set on a copy of a slice from a DataFrame.\n",
      "Try using .loc[row_indexer,col_indexer] = value instead\n",
      "\n",
      "See the caveats in the documentation: https://pandas.pydata.org/pandas-docs/stable/user_guide/indexing.html#returning-a-view-versus-a-copy\n",
      "  df_cleaned['black_scholes_implied_vol'] = np.nan\n"
     ]
    }
   ],
   "source": [
    "df_cleaned['black_scholes_implied_vol'] = np.nan\n",
    "\n",
    "for index in df_cleaned.index:\n",
    "    implied_vol = iv.implied_volatility(df_cleaned.loc[index, 'market_price'], historical_stock_price, df_cleaned.loc[index, 'strike_price'], df_cleaned.loc[index, 'days_to_expiration'] / 365,0,'c')\n",
    "    df_cleaned.loc[index, 'black_scholes_implied_vol'] = implied_vol"
   ]
  },
  {
   "cell_type": "code",
   "execution_count": 31,
   "id": "b685f550",
   "metadata": {},
   "outputs": [],
   "source": [
    "avg_implied_vol = np.mean(df_cleaned['black_scholes_implied_vol'])"
   ]
  },
  {
   "cell_type": "code",
   "execution_count": 32,
   "id": "c727093a",
   "metadata": {},
   "outputs": [
    {
     "data": {
      "text/plain": [
       "0.3473586204317003"
      ]
     },
     "execution_count": 32,
     "metadata": {},
     "output_type": "execute_result"
    }
   ],
   "source": [
    "avg_implied_vol"
   ]
  },
  {
   "cell_type": "code",
   "execution_count": 33,
   "id": "2aa5231b",
   "metadata": {},
   "outputs": [],
   "source": [
    "bs_multiplier = (avg_implied_vol-yearly_volatility)/avg_implied_vol+1"
   ]
  },
  {
   "cell_type": "code",
   "execution_count": 34,
   "id": "32f9da36",
   "metadata": {},
   "outputs": [
    {
     "data": {
      "text/plain": [
       "1.251522917677066"
      ]
     },
     "execution_count": 34,
     "metadata": {},
     "output_type": "execute_result"
    }
   ],
   "source": [
    "bs_multiplier"
   ]
  }
 ],
 "metadata": {
  "kernelspec": {
   "display_name": "Python 3 (ipykernel)",
   "language": "python",
   "name": "python3"
  },
  "language_info": {
   "codemirror_mode": {
    "name": "ipython",
    "version": 3
   },
   "file_extension": ".py",
   "mimetype": "text/x-python",
   "name": "python",
   "nbconvert_exporter": "python",
   "pygments_lexer": "ipython3",
   "version": "3.9.13"
  }
 },
 "nbformat": 4,
 "nbformat_minor": 5
}
