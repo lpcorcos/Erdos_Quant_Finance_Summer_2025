{
 "cells": [
  {
   "cell_type": "markdown",
   "id": "69ba89e3",
   "metadata": {},
   "source": [
    "# 3 Modeling Random Walks\n",
    "\n",
    "**2025 Introduction to Quantiative Methods in Finance**\n",
    "\n",
    "**The Erdös Institute**"
   ]
  },
  {
   "cell_type": "code",
   "execution_count": null,
   "id": "2672ad0b",
   "metadata": {},
   "outputs": [],
   "source": [
    "#import packages\n",
    "\n",
    "import numpy as np\n",
    "import matplotlib.pyplot as plt\n",
    "import pandas as pd\n",
    "import yfinance as yf\n",
    "import datetime as dt\n",
    "import seaborn as sns\n",
    "sns.set_style('darkgrid')"
   ]
  },
  {
   "cell_type": "markdown",
   "id": "d73c81aa",
   "metadata": {},
   "source": [
    "## Random Walk\n",
    "\n",
    "A **Random Walk** is a sequence of probabilistic values $\\{S_t\\}_{t\\geq 1}$ where $S_t = z_1 + z_2 +\\cdots + z_t$ and $z_1,z_2,\\ldots,z_t$ is a independent and identically distributed random variable."
   ]
  },
  {
   "cell_type": "code",
   "execution_count": null,
   "id": "4f1755fd",
   "metadata": {},
   "outputs": [],
   "source": [
    "# write a function that designs a random walk by randomly selecting values from a set of numbers\n",
    "def random_walk(n, steps, probs):\n",
    "    \"\"\"\n",
    "    Simulate a random walk of length n using step values and their probabilities.\n",
    "\n",
    "    Parameters:\n",
    "        n: Number of steps in the walk.\n",
    "        steps (array): Possible step values (e.g., [-1, 1]).\n",
    "        probs (array): Corresponding probabilities for each step.\n",
    "\n",
    "    Returns:\n",
    "        np.ndarray: Array representing the random walk.\n",
    "    \"\"\"\n",
    "    draws = \n",
    "    return "
   ]
  },
  {
   "cell_type": "code",
   "execution_count": null,
   "id": "f60028c5",
   "metadata": {},
   "outputs": [],
   "source": []
  },
  {
   "cell_type": "code",
   "execution_count": null,
   "id": "f2c9a02f",
   "metadata": {
    "scrolled": false
   },
   "outputs": [],
   "source": [
    "#Code and plot a random walk\n",
    "\n",
    "# Create an array of length 500 of randomly choosing 1 and -1 with equal probability\n",
    "n = \n",
    "steps = \n",
    "probs = \n",
    "\n",
    "\n",
    "#Create the array of the random walk\n",
    "r_walk = random_walk(n,steps,probs)\n",
    "\n",
    "#plot the random walk\n",
    "plt.figure(figsize=(12, 8))\n",
    "plt.plot(r_walk)\n",
    "plt.title('A Random Walk', size = 25)\n",
    "plt.show()"
   ]
  },
  {
   "cell_type": "markdown",
   "id": "ce09faa1",
   "metadata": {},
   "source": [
    "## Expected value and variance of random walk\n",
    "\n",
    "Let $S_t = z_1 +z_2 + \\cdots + z_t$ be a random walk.\n",
    "   - The expected value of $S_t$ is $tE(z_i)$.\n",
    "   - The variance of $S_t$ is $t\\mbox{Var}(z_i)$."
   ]
  },
  {
   "cell_type": "markdown",
   "id": "3ce27470",
   "metadata": {},
   "source": [
    "## Generalized Random Walk\n",
    "\n",
    "A **generalized random walk** is a sequence of probabilistic values $S_t = r_1 + r_2 +\\cdots + r_t$ so that $r_i = \\mu + \\sigma z_i$ and $z_1,\\ldots,z_t$ are i.i.d. random variables. "
   ]
  },
  {
   "cell_type": "code",
   "execution_count": null,
   "id": "d6c80ce4",
   "metadata": {},
   "outputs": [],
   "source": [
    "#Write a function that generates a generalized random walk with z_i the standard normal distribution\n",
    "\n",
    "import numpy as np\n",
    "\n",
    "def generalized_random_walk(n, mu, sigma):\n",
    "    \"\"\"\n",
    "    Simulate a generalized random walk of length n with normal increments.\n",
    "\n",
    "    Each step is drawn from a normal distribution with mean `mu` and standard deviation `sigma`.\n",
    "\n",
    "    Parameters:\n",
    "        n: Number of steps in the random walk.\n",
    "        mu: Mean of each increment.\n",
    "        sigma: Standard deviation of each increment.\n",
    "\n",
    "    Returns:\n",
    "        np.ndarray: Array representing the generalized random walk.\n",
    "    \"\"\"\n",
    "    #create array of randomly selected values from normal distribution\n",
    "    steps = \n",
    "    return \n"
   ]
  },
  {
   "cell_type": "code",
   "execution_count": null,
   "id": "1503f224",
   "metadata": {
    "scrolled": false
   },
   "outputs": [],
   "source": [
    "#Create a generalized random walk\n",
    "g_r_walk =\n",
    "\n",
    "#plot the generalized random walk\n",
    "plt.figure(figsize=(12, 8))\n",
    "plt.plot(g_r_walk)\n",
    "plt.title('A Generalized Random Walk', size = 25)\n",
    "plt.show()"
   ]
  },
  {
   "cell_type": "markdown",
   "id": "84554cf1",
   "metadata": {},
   "source": [
    "## Expected value and variance of generalized random walk\n",
    "\n",
    "Let $S_t = r_1 +r_2 + \\cdots + r_t$, $r_i = \\mu + \\sigma z_i$ be a generalized random walk with $z_i$ the normal distribution.\n",
    "   - The expected value of $S_t$ is $t\\mu$.\n",
    "   - The variance of $S_t$ is $t\\sigma^2$."
   ]
  },
  {
   "cell_type": "markdown",
   "id": "38de4f62",
   "metadata": {},
   "source": [
    "## Random Walks with Correlation Between Successive Steps\n",
    "\n",
    "Random walks can be extended to incorporate correlation between steps using **autoregressive** and **moving average** models.\n",
    "\n",
    "### Autoregressive (AR) Model\n",
    "\n",
    "An autoregressive model of order $p$, denoted AR($p$), defines a random walk via\n",
    "\n",
    "$$\n",
    "S_t = r_1 + r_2 + \\cdots + r_t,\n",
    "$$\n",
    "\n",
    "where each return $r_i$ satisfies\n",
    "\n",
    "$$\n",
    "r_i = c_0 + c_1 r_{i-1} + \\cdots + c_p r_{i-p} + \\sigma z_i,\n",
    "$$\n",
    "\n",
    "The condition $|c_1+c_2+\\cdots + c_p|<1$ insures that the random walk process will have the revert to mean property.\n",
    "\n",
    "with $ z_i \\sim \\mathcal{N}(0, 1) $. The process is **stationary**, meaning $ E[r_i] = E[r_j]$ and $\\mbox{Var}(r_i)=\\mbox{Var}(r_j)$ for all $i, j$.\n",
    "\n",
    "\n",
    "The AR($1$) random walk has steps that are modeled by\n",
    "$$ r_t = \\mu + c_1(r_{t-1}-\\mu) + \\sigma z_t.$$\n",
    "\n",
    "\n",
    "\n",
    "\n",
    "### Moving Average (MA) Model\n",
    "\n",
    "A moving average model of order $q$, denoted MA($q$), takes the form\n",
    "\n",
    "$$\n",
    "S_t = r_1 + r_2 + \\cdots + r_t,\n",
    "$$\n",
    "\n",
    "where\n",
    "\n",
    "$$\n",
    "r_i = \\mu + \\sigma z_i + \\phi_1 z_{i-1} + \\cdots + \\phi_q z_{i-q},\n",
    "$$\n",
    "\n",
    "with each $z_i$ the standard normal distribution.\n",
    "\n",
    "### ARMA Model\n",
    "\n",
    "An ARMA($p, q$) model combines both components:\n",
    "\n",
    "$$\n",
    "S_t = r_1 + r_2 + \\cdots + r_t,\n",
    "$$\n",
    "\n",
    "where\n",
    "\n",
    "$$\n",
    "r_i = c_0 + c_1 r_{i-1} + \\cdots + c_p r_{i-p} + \\sigma z_i + \\phi_1 z_{i-1} + \\cdots + \\phi_q z_{i-q}.\n",
    "$$\n",
    "\n",
    "### Key Interpretations\n",
    "\n",
    "- **Moving Average (MA)**: Past **shocks** (random noise) influence current returns.\n",
    "- **Autoregressive (AR)**: Past **returns** influence future returns and models mean reversion.\n"
   ]
  },
  {
   "cell_type": "code",
   "execution_count": null,
   "id": "b6b3b012",
   "metadata": {},
   "outputs": [],
   "source": [
    "#Write a function that defines an ARMA(1,1) random walk model\n",
    "\n",
    "import numpy as np\n",
    "\n",
    "def arma_11_random_walk(n, mu, c, phi, sigma):\n",
    "    \"\"\"\n",
    "    Simulate an ARMA(1,1) process: r_t = mu+ c * (r_{t-1}-mu)  + phi * z_{t-1} + sigma * z_t\n",
    "    \n",
    "    Parameters:\n",
    "        n (int): Number of time steps to simulate.\n",
    "        mu: mean of each increment\n",
    "        c (float): autoregressive coefficient.\n",
    "        phi (float): Moving average coefficient.\n",
    "        sigma (float): Standard deviation of random noise in each step.\n",
    "    \n",
    "    Returns:\n",
    "        np.ndarray: Simulated ARMA(1,1) time series.\n",
    "    \"\"\"\n",
    "    \n",
    "    #Create an array of the z_t's\n",
    "    noise = \n",
    "    \n",
    "    # create array of zeros to be filled in by the random walk\n",
    "    steps = \n",
    "    \n",
    "    #Initialize the first step\n",
    "    steps[0] = \n",
    "    \n",
    "    #Fill in rest of the steps\n",
    "    for t in range(1,n):\n",
    "        steps[t] = \n",
    "    \n",
    "    \n",
    "    \n",
    "    return \n"
   ]
  },
  {
   "cell_type": "code",
   "execution_count": null,
   "id": "6b11993b",
   "metadata": {},
   "outputs": [],
   "source": [
    "#Create an ARMA(1,1) random walk\n",
    "arma_walk = \n",
    "\n",
    "\n",
    "#Plot an ARMA(1,1) random walk\n",
    "plt.figure(figsize = (12,8))\n",
    "plt.plot(arma_walk)\n",
    "plt.title('ARMA(1,1) Random walk', size = 25)\n",
    "plt.show()"
   ]
  }
 ],
 "metadata": {
  "kernelspec": {
   "display_name": "Python 3 (ipykernel)",
   "language": "python",
   "name": "python3"
  },
  "language_info": {
   "codemirror_mode": {
    "name": "ipython",
    "version": 3
   },
   "file_extension": ".py",
   "mimetype": "text/x-python",
   "name": "python",
   "nbconvert_exporter": "python",
   "pygments_lexer": "ipython3",
   "version": "3.9.13"
  }
 },
 "nbformat": 4,
 "nbformat_minor": 5
}
